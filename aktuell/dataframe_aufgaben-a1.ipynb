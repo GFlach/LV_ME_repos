{
 "cells": [
  {
   "cell_type": "markdown",
   "metadata": {},
   "source": [
    "[Inhaltsverzeichnis](table_of_contents.ipynb)"
   ]
  },
  {
   "cell_type": "code",
   "execution_count": 1,
   "metadata": {},
   "outputs": [
    {
     "name": "stdout",
     "output_type": "stream",
     "text": [
      "Using matplotlib backend: Qt5Agg\n",
      "Populating the interactive namespace from numpy and matplotlib\n"
     ]
    }
   ],
   "source": [
    "%matplotlib\n",
    "%pylab inline\n",
    "import numpy as np\n",
    "import matplotlib.pyplot as plt\n",
    "import matplotlib.image as mpimg\n",
    "import os\n",
    "import pandas as pd\n",
    "import functions.sda_help as sh\n",
    "import functions.PrettyTable as pt"
   ]
  },
  {
   "cell_type": "markdown",
   "metadata": {},
   "source": [
    "### Kenngrößen von Dataframes\n",
    "Dataframe: zweidimensionale, heterogene Datenstruktur mit markierten Achsen (Zeilen und Spalten). Dataframes können auf unterschiedliche Art erzeugt werden. Wir betrachten zunächst vorhandene Dataframes."
   ]
  },
  {
   "cell_type": "markdown",
   "metadata": {},
   "source": [
    "### Arbeit mit Dataframes\n",
    "In dieser Übung werden Dataframes untersucht und visualisiert."
   ]
  },
  {
   "cell_type": "markdown",
   "metadata": {},
   "source": [
    "#### Einlesen von Dataframes"
   ]
  },
  {
   "cell_type": "markdown",
   "metadata": {},
   "source": [
    "#### <font color=\"#FF0000\">Eingabezelle</font>"
   ]
  },
  {
   "cell_type": "code",
   "execution_count": 2,
   "metadata": {},
   "outputs": [],
   "source": [
    "df_name = 'df0.txt'"
   ]
  },
  {
   "cell_type": "code",
   "execution_count": 3,
   "metadata": {},
   "outputs": [],
   "source": [
    "df = pd.read_pickle('data/' + df_name)"
   ]
  },
  {
   "cell_type": "markdown",
   "metadata": {},
   "source": [
    "#### Anzeigemöglichkeiten"
   ]
  },
  {
   "cell_type": "code",
   "execution_count": 4,
   "metadata": {},
   "outputs": [
    {
     "data": {
      "text/html": [
       "<div>\n",
       "<style scoped>\n",
       "    .dataframe tbody tr th:only-of-type {\n",
       "        vertical-align: middle;\n",
       "    }\n",
       "\n",
       "    .dataframe tbody tr th {\n",
       "        vertical-align: top;\n",
       "    }\n",
       "\n",
       "    .dataframe thead th {\n",
       "        text-align: right;\n",
       "    }\n",
       "</style>\n",
       "<table border=\"1\" class=\"dataframe\">\n",
       "  <thead>\n",
       "    <tr style=\"text-align: right;\">\n",
       "      <th></th>\n",
       "      <th>x1</th>\n",
       "      <th>x2</th>\n",
       "      <th>Klasse</th>\n",
       "    </tr>\n",
       "  </thead>\n",
       "  <tbody>\n",
       "    <tr>\n",
       "      <th>995</th>\n",
       "      <td>200.013251</td>\n",
       "      <td>204.967519</td>\n",
       "      <td>sieben</td>\n",
       "    </tr>\n",
       "    <tr>\n",
       "      <th>996</th>\n",
       "      <td>190.324674</td>\n",
       "      <td>213.039955</td>\n",
       "      <td>sieben</td>\n",
       "    </tr>\n",
       "    <tr>\n",
       "      <th>997</th>\n",
       "      <td>210.156452</td>\n",
       "      <td>193.733754</td>\n",
       "      <td>sieben</td>\n",
       "    </tr>\n",
       "    <tr>\n",
       "      <th>998</th>\n",
       "      <td>192.967568</td>\n",
       "      <td>216.070148</td>\n",
       "      <td>sieben</td>\n",
       "    </tr>\n",
       "    <tr>\n",
       "      <th>999</th>\n",
       "      <td>201.375303</td>\n",
       "      <td>179.203958</td>\n",
       "      <td>sieben</td>\n",
       "    </tr>\n",
       "  </tbody>\n",
       "</table>\n",
       "</div>"
      ],
      "text/plain": [
       "             x1          x2  Klasse\n",
       "995  200.013251  204.967519  sieben\n",
       "996  190.324674  213.039955  sieben\n",
       "997  210.156452  193.733754  sieben\n",
       "998  192.967568  216.070148  sieben\n",
       "999  201.375303  179.203958  sieben"
      ]
     },
     "execution_count": 4,
     "metadata": {},
     "output_type": "execute_result"
    }
   ],
   "source": [
    "# letzte 5 Elemente\n",
    "df.tail()"
   ]
  },
  {
   "cell_type": "code",
   "execution_count": null,
   "metadata": {},
   "outputs": [],
   "source": [
    "# Zeilenbezeichnungen\n",
    "df.index"
   ]
  },
  {
   "cell_type": "code",
   "execution_count": null,
   "metadata": {},
   "outputs": [],
   "source": [
    "#Spaltennamen\n",
    "df.columns"
   ]
  },
  {
   "cell_type": "code",
   "execution_count": null,
   "metadata": {},
   "outputs": [],
   "source": [
    "#Datenwerte\n",
    "df.values"
   ]
  },
  {
   "cell_type": "code",
   "execution_count": null,
   "metadata": {},
   "outputs": [],
   "source": [
    "# Angabe statistischer Kenngrößen\n",
    "df.describe()"
   ]
  },
  {
   "cell_type": "code",
   "execution_count": null,
   "metadata": {},
   "outputs": [],
   "source": [
    "# Auswahl von Spalten\n",
    "df['x1']"
   ]
  },
  {
   "cell_type": "code",
   "execution_count": null,
   "metadata": {},
   "outputs": [],
   "source": [
    "# Auswahl von Zeilen\n",
    "df[0:3]"
   ]
  },
  {
   "cell_type": "code",
   "execution_count": 5,
   "metadata": {},
   "outputs": [
    {
     "data": {
      "text/html": [
       "<div>\n",
       "<style scoped>\n",
       "    .dataframe tbody tr th:only-of-type {\n",
       "        vertical-align: middle;\n",
       "    }\n",
       "\n",
       "    .dataframe tbody tr th {\n",
       "        vertical-align: top;\n",
       "    }\n",
       "\n",
       "    .dataframe thead th {\n",
       "        text-align: right;\n",
       "    }\n",
       "</style>\n",
       "<table border=\"1\" class=\"dataframe\">\n",
       "  <thead>\n",
       "    <tr style=\"text-align: right;\">\n",
       "      <th></th>\n",
       "      <th>x1</th>\n",
       "      <th>x2</th>\n",
       "      <th>Klasse</th>\n",
       "    </tr>\n",
       "  </thead>\n",
       "  <tbody>\n",
       "    <tr>\n",
       "      <th>19</th>\n",
       "      <td>68.846565</td>\n",
       "      <td>0.469638</td>\n",
       "      <td>eins</td>\n",
       "    </tr>\n",
       "    <tr>\n",
       "      <th>19</th>\n",
       "      <td>23.172055</td>\n",
       "      <td>57.015814</td>\n",
       "      <td>zwei</td>\n",
       "    </tr>\n",
       "    <tr>\n",
       "      <th>19</th>\n",
       "      <td>10.828509</td>\n",
       "      <td>8.832913</td>\n",
       "      <td>drei</td>\n",
       "    </tr>\n",
       "    <tr>\n",
       "      <th>19</th>\n",
       "      <td>79.046420</td>\n",
       "      <td>10.260517</td>\n",
       "      <td>vier</td>\n",
       "    </tr>\n",
       "    <tr>\n",
       "      <th>19</th>\n",
       "      <td>14.763668</td>\n",
       "      <td>169.006736</td>\n",
       "      <td>fuenf</td>\n",
       "    </tr>\n",
       "    <tr>\n",
       "      <th>19</th>\n",
       "      <td>67.193754</td>\n",
       "      <td>97.734884</td>\n",
       "      <td>sechs</td>\n",
       "    </tr>\n",
       "    <tr>\n",
       "      <th>19</th>\n",
       "      <td>196.836675</td>\n",
       "      <td>203.284315</td>\n",
       "      <td>sieben</td>\n",
       "    </tr>\n",
       "  </tbody>\n",
       "</table>\n",
       "</div>"
      ],
      "text/plain": [
       "            x1          x2  Klasse\n",
       "19   68.846565    0.469638    eins\n",
       "19   23.172055   57.015814    zwei\n",
       "19   10.828509    8.832913    drei\n",
       "19   79.046420   10.260517    vier\n",
       "19   14.763668  169.006736   fuenf\n",
       "19   67.193754   97.734884   sechs\n",
       "19  196.836675  203.284315  sieben"
      ]
     },
     "execution_count": 5,
     "metadata": {},
     "output_type": "execute_result"
    }
   ],
   "source": [
    "# Zugriff über Zeilenname\n",
    "df.loc[19]"
   ]
  },
  {
   "cell_type": "code",
   "execution_count": 10,
   "metadata": {},
   "outputs": [
    {
     "data": {
      "text/html": [
       "<div>\n",
       "<style scoped>\n",
       "    .dataframe tbody tr th:only-of-type {\n",
       "        vertical-align: middle;\n",
       "    }\n",
       "\n",
       "    .dataframe tbody tr th {\n",
       "        vertical-align: top;\n",
       "    }\n",
       "\n",
       "    .dataframe thead th {\n",
       "        text-align: right;\n",
       "    }\n",
       "</style>\n",
       "<table border=\"1\" class=\"dataframe\">\n",
       "  <thead>\n",
       "    <tr style=\"text-align: right;\">\n",
       "      <th></th>\n",
       "      <th>x1</th>\n",
       "    </tr>\n",
       "  </thead>\n",
       "  <tbody>\n",
       "    <tr>\n",
       "      <th>0</th>\n",
       "      <td>79.128069</td>\n",
       "    </tr>\n",
       "    <tr>\n",
       "      <th>1</th>\n",
       "      <td>78.834436</td>\n",
       "    </tr>\n",
       "  </tbody>\n",
       "</table>\n",
       "</div>"
      ],
      "text/plain": [
       "          x1\n",
       "0  79.128069\n",
       "1  78.834436"
      ]
     },
     "execution_count": 10,
     "metadata": {},
     "output_type": "execute_result"
    }
   ],
   "source": [
    "# Zugriff über Position\n",
    "df.iloc[3000:3002, 0:1]"
   ]
  },
  {
   "cell_type": "code",
   "execution_count": null,
   "metadata": {},
   "outputs": [],
   "source": [
    "# boolescher Zugriff\n",
    "df[df.Klasse == 'eins']"
   ]
  },
  {
   "cell_type": "markdown",
   "metadata": {},
   "source": [
    "#### Operationen\n",
    "Mittelwert pro Spalte"
   ]
  },
  {
   "cell_type": "code",
   "execution_count": null,
   "metadata": {},
   "outputs": [],
   "source": [
    "df.mean()"
   ]
  },
  {
   "cell_type": "markdown",
   "metadata": {},
   "source": [
    "Mittelwert pro Zeile"
   ]
  },
  {
   "cell_type": "code",
   "execution_count": 11,
   "metadata": {},
   "outputs": [
    {
     "data": {
      "text/plain": [
       "0       52.600120\n",
       "1       58.999523\n",
       "2       46.509658\n",
       "3       47.134361\n",
       "4       60.958449\n",
       "5       60.437767\n",
       "6       48.097077\n",
       "7       40.479977\n",
       "8       49.814080\n",
       "9       29.493064\n",
       "10      47.787463\n",
       "11      52.790488\n",
       "12      31.993640\n",
       "13      38.527570\n",
       "14      52.701964\n",
       "15      46.734993\n",
       "16      63.708698\n",
       "17      60.315624\n",
       "18      27.519480\n",
       "19      34.658102\n",
       "20      56.981893\n",
       "21      44.926062\n",
       "22      36.544563\n",
       "23      34.616879\n",
       "24      44.816278\n",
       "25      49.331215\n",
       "26      70.131346\n",
       "27      66.392593\n",
       "28      48.829703\n",
       "29      53.844564\n",
       "          ...    \n",
       "970    202.641612\n",
       "971    200.236295\n",
       "972    204.799057\n",
       "973    207.842204\n",
       "974    193.351103\n",
       "975    217.610179\n",
       "976    189.681561\n",
       "977    202.665205\n",
       "978    186.762621\n",
       "979    201.112707\n",
       "980    207.939266\n",
       "981    190.970019\n",
       "982    206.093868\n",
       "983    207.914488\n",
       "984    204.434184\n",
       "985    199.716380\n",
       "986    203.353513\n",
       "987    196.951126\n",
       "988    217.489057\n",
       "989    198.629158\n",
       "990    188.667024\n",
       "991    192.044077\n",
       "992    205.421873\n",
       "993    195.202599\n",
       "994    196.206084\n",
       "995    202.490385\n",
       "996    201.682315\n",
       "997    201.945103\n",
       "998    204.518858\n",
       "999    190.289631\n",
       "Length: 7000, dtype: float64"
      ]
     },
     "execution_count": 11,
     "metadata": {},
     "output_type": "execute_result"
    }
   ],
   "source": [
    "df.mean(1)"
   ]
  },
  {
   "cell_type": "markdown",
   "metadata": {},
   "source": [
    "### Verwendung von Sprachdaten\n",
    "Es wird ein Dataframe verwendet, in dem von 31 Sprechern die Frequenzen des 1. und 2. Formanten der Vokale a, e, i, o und u enthalten sind."
   ]
  },
  {
   "cell_type": "code",
   "execution_count": 12,
   "metadata": {},
   "outputs": [],
   "source": [
    "speech_df = pd.read_csv('data/sprecher.csv', sep=';')"
   ]
  },
  {
   "cell_type": "code",
   "execution_count": 13,
   "metadata": {},
   "outputs": [
    {
     "data": {
      "text/html": [
       "<div>\n",
       "<style scoped>\n",
       "    .dataframe tbody tr th:only-of-type {\n",
       "        vertical-align: middle;\n",
       "    }\n",
       "\n",
       "    .dataframe tbody tr th {\n",
       "        vertical-align: top;\n",
       "    }\n",
       "\n",
       "    .dataframe thead th {\n",
       "        text-align: right;\n",
       "    }\n",
       "</style>\n",
       "<table border=\"1\" class=\"dataframe\">\n",
       "  <thead>\n",
       "    <tr style=\"text-align: right;\">\n",
       "      <th></th>\n",
       "      <th>Sprecher</th>\n",
       "      <th>[a]F1</th>\n",
       "      <th>[a]F2</th>\n",
       "      <th>[e]F1</th>\n",
       "      <th>[e]F2</th>\n",
       "      <th>[i]F1</th>\n",
       "      <th>[i]F2</th>\n",
       "      <th>[o]F1</th>\n",
       "      <th>[o]F2</th>\n",
       "      <th>[u]F1</th>\n",
       "      <th>[u]F2</th>\n",
       "    </tr>\n",
       "  </thead>\n",
       "  <tbody>\n",
       "    <tr>\n",
       "      <th>count</th>\n",
       "      <td>31.000000</td>\n",
       "      <td>31.000000</td>\n",
       "      <td>31.000000</td>\n",
       "      <td>31.000000</td>\n",
       "      <td>31.000000</td>\n",
       "      <td>31.000000</td>\n",
       "      <td>31.000000</td>\n",
       "      <td>31.000000</td>\n",
       "      <td>31.000000</td>\n",
       "      <td>31.000000</td>\n",
       "      <td>31.000000</td>\n",
       "    </tr>\n",
       "    <tr>\n",
       "      <th>mean</th>\n",
       "      <td>16.000000</td>\n",
       "      <td>774.870968</td>\n",
       "      <td>1197.096774</td>\n",
       "      <td>360.612903</td>\n",
       "      <td>2229.451613</td>\n",
       "      <td>248.096774</td>\n",
       "      <td>2268.096774</td>\n",
       "      <td>396.161290</td>\n",
       "      <td>774.903226</td>\n",
       "      <td>265.225806</td>\n",
       "      <td>707.096774</td>\n",
       "    </tr>\n",
       "    <tr>\n",
       "      <th>std</th>\n",
       "      <td>9.092121</td>\n",
       "      <td>73.288354</td>\n",
       "      <td>104.829180</td>\n",
       "      <td>65.688496</td>\n",
       "      <td>182.300821</td>\n",
       "      <td>33.958165</td>\n",
       "      <td>193.588973</td>\n",
       "      <td>57.834878</td>\n",
       "      <td>103.335168</td>\n",
       "      <td>44.201591</td>\n",
       "      <td>76.732590</td>\n",
       "    </tr>\n",
       "    <tr>\n",
       "      <th>min</th>\n",
       "      <td>1.000000</td>\n",
       "      <td>650.000000</td>\n",
       "      <td>1050.000000</td>\n",
       "      <td>240.000000</td>\n",
       "      <td>2000.000000</td>\n",
       "      <td>200.000000</td>\n",
       "      <td>1900.000000</td>\n",
       "      <td>300.000000</td>\n",
       "      <td>600.000000</td>\n",
       "      <td>200.000000</td>\n",
       "      <td>503.000000</td>\n",
       "    </tr>\n",
       "    <tr>\n",
       "      <th>25%</th>\n",
       "      <td>8.500000</td>\n",
       "      <td>720.000000</td>\n",
       "      <td>1110.000000</td>\n",
       "      <td>300.000000</td>\n",
       "      <td>2100.000000</td>\n",
       "      <td>236.000000</td>\n",
       "      <td>2111.000000</td>\n",
       "      <td>350.000000</td>\n",
       "      <td>717.000000</td>\n",
       "      <td>240.000000</td>\n",
       "      <td>675.000000</td>\n",
       "    </tr>\n",
       "    <tr>\n",
       "      <th>50%</th>\n",
       "      <td>16.000000</td>\n",
       "      <td>770.000000</td>\n",
       "      <td>1188.000000</td>\n",
       "      <td>380.000000</td>\n",
       "      <td>2150.000000</td>\n",
       "      <td>250.000000</td>\n",
       "      <td>2300.000000</td>\n",
       "      <td>400.000000</td>\n",
       "      <td>750.000000</td>\n",
       "      <td>251.000000</td>\n",
       "      <td>710.000000</td>\n",
       "    </tr>\n",
       "    <tr>\n",
       "      <th>75%</th>\n",
       "      <td>23.500000</td>\n",
       "      <td>815.000000</td>\n",
       "      <td>1270.000000</td>\n",
       "      <td>400.000000</td>\n",
       "      <td>2300.000000</td>\n",
       "      <td>260.000000</td>\n",
       "      <td>2405.000000</td>\n",
       "      <td>430.000000</td>\n",
       "      <td>805.000000</td>\n",
       "      <td>295.000000</td>\n",
       "      <td>750.000000</td>\n",
       "    </tr>\n",
       "    <tr>\n",
       "      <th>max</th>\n",
       "      <td>31.000000</td>\n",
       "      <td>970.000000</td>\n",
       "      <td>1440.000000</td>\n",
       "      <td>504.000000</td>\n",
       "      <td>2750.000000</td>\n",
       "      <td>315.000000</td>\n",
       "      <td>2600.000000</td>\n",
       "      <td>500.000000</td>\n",
       "      <td>1080.000000</td>\n",
       "      <td>350.000000</td>\n",
       "      <td>900.000000</td>\n",
       "    </tr>\n",
       "  </tbody>\n",
       "</table>\n",
       "</div>"
      ],
      "text/plain": [
       "        Sprecher       [a]F1        [a]F2       [e]F1        [e]F2  \\\n",
       "count  31.000000   31.000000    31.000000   31.000000    31.000000   \n",
       "mean   16.000000  774.870968  1197.096774  360.612903  2229.451613   \n",
       "std     9.092121   73.288354   104.829180   65.688496   182.300821   \n",
       "min     1.000000  650.000000  1050.000000  240.000000  2000.000000   \n",
       "25%     8.500000  720.000000  1110.000000  300.000000  2100.000000   \n",
       "50%    16.000000  770.000000  1188.000000  380.000000  2150.000000   \n",
       "75%    23.500000  815.000000  1270.000000  400.000000  2300.000000   \n",
       "max    31.000000  970.000000  1440.000000  504.000000  2750.000000   \n",
       "\n",
       "            [i]F1        [i]F2       [o]F1        [o]F2       [u]F1  \\\n",
       "count   31.000000    31.000000   31.000000    31.000000   31.000000   \n",
       "mean   248.096774  2268.096774  396.161290   774.903226  265.225806   \n",
       "std     33.958165   193.588973   57.834878   103.335168   44.201591   \n",
       "min    200.000000  1900.000000  300.000000   600.000000  200.000000   \n",
       "25%    236.000000  2111.000000  350.000000   717.000000  240.000000   \n",
       "50%    250.000000  2300.000000  400.000000   750.000000  251.000000   \n",
       "75%    260.000000  2405.000000  430.000000   805.000000  295.000000   \n",
       "max    315.000000  2600.000000  500.000000  1080.000000  350.000000   \n",
       "\n",
       "            [u]F2  \n",
       "count   31.000000  \n",
       "mean   707.096774  \n",
       "std     76.732590  \n",
       "min    503.000000  \n",
       "25%    675.000000  \n",
       "50%    710.000000  \n",
       "75%    750.000000  \n",
       "max    900.000000  "
      ]
     },
     "execution_count": 13,
     "metadata": {},
     "output_type": "execute_result"
    }
   ],
   "source": [
    "speech_df.describe()"
   ]
  },
  {
   "cell_type": "code",
   "execution_count": 14,
   "metadata": {},
   "outputs": [],
   "source": [
    "data = speech_df.values[:,1:]"
   ]
  },
  {
   "cell_type": "code",
   "execution_count": 16,
   "metadata": {},
   "outputs": [
    {
     "data": {
      "text/plain": [
       "array([[ 700, 1200,  400, 2100,  250, 2600,  400,  750,  250,  700],\n",
       "       [ 650, 1200,  250, 2100,  200, 2250,  400,  750,  350,  750],\n",
       "       [ 850, 1195,  420, 2240,  240, 2420,  500,  800,  250,  630],\n",
       "       [ 730, 1240,  240, 2100,  240, 2300,  390,  760,  220,  730],\n",
       "       [ 750, 1120,  300, 2070,  240, 2180,  360,  730,  200,  710],\n",
       "       [ 770, 1310,  460, 2150,  315, 2560,  430,  830,  280,  750],\n",
       "       [ 770, 1080,  350, 2100,  240, 1900,  430,  670,  315,  710],\n",
       "       [ 655, 1200,  385, 2150,  315, 2440,  360, 1000,  280,  790],\n",
       "       [ 710, 1100,  380, 2000,  240, 2100,  440,  735,  350,  760],\n",
       "       [ 820, 1150,  350, 2100,  300, 2050,  500,  750,  320,  690],\n",
       "       [ 850, 1150,  410, 2000,  200, 2100,  500,  760,  200,  750],\n",
       "       [ 710, 1100,  240, 2300,  200, 2410,  500,  860,  240,  670],\n",
       "       [ 740, 1090,  290, 2110,  210, 2180,  360,  790,  240,  760],\n",
       "       [ 790, 1360,  410, 2090,  260, 2060,  430,  860,  260,  610],\n",
       "       [ 800, 1200,  400, 2100,  250, 2200,  350,  750,  300,  700],\n",
       "       [ 800, 1300,  420, 2300,  300, 2300,  350,  800,  300,  750],\n",
       "       [ 810, 1310,  350, 2200,  250, 2300,  350,  700,  350,  750],\n",
       "       [ 790, 1160,  280, 2300,  250, 2200,  300,  650,  200,  630],\n",
       "       [ 800, 1120,  320, 2400,  200, 2350,  350,  750,  290,  600],\n",
       "       [ 690, 1050,  360, 2150,  220, 2150,  420,  710,  240,  760],\n",
       "       [ 820, 1087,  380, 2285,  236, 2122,  346,  630,  251,  567],\n",
       "       [ 750, 1187,  380, 2348,  236, 2358,  409,  945,  251,  630],\n",
       "       [ 660, 1150,  300, 2100,  250, 2050,  350,  810,  290,  680],\n",
       "       [ 875, 1188,  400, 2188,  313, 1937,  375,  688,  313,  750],\n",
       "       [ 750, 1050,  350, 2300,  200, 2000,  310,  700,  220,  750],\n",
       "       [ 710, 1300,  300, 2100,  280, 2400,  360,  750,  270,  700],\n",
       "       [ 810, 1230,  300, 2300,  250, 2400,  300,  790,  240,  900],\n",
       "       [ 750, 1100,  400, 2500,  250, 2500,  400,  600,  200,  700],\n",
       "       [ 881, 1323,  504, 2582,  236, 2594,  441,  724,  252,  503],\n",
       "       [ 860, 1440,  400, 2750,  260, 2400,  460,  900,  250,  780],\n",
       "       [ 970, 1420,  450, 2600,  260, 2500,  410, 1080,  250,  760]],\n",
       "      dtype=int64)"
      ]
     },
     "execution_count": 16,
     "metadata": {},
     "output_type": "execute_result"
    }
   ],
   "source": [
    "data"
   ]
  },
  {
   "cell_type": "code",
   "execution_count": 17,
   "metadata": {},
   "outputs": [
    {
     "data": {
      "image/png": "[encoded data removed]",
      "text/plain": [
       "<Figure size 504x504 with 1 Axes>"
      ]
     },
     "metadata": {},
     "output_type": "display_data"
    }
   ],
   "source": [
    "#a_f1 = data[:,1]\n",
    "#a_f2 = data[:,2]\n",
    "plt.figure(figsize=(7,7))\n",
    "plt.scatter(data[:,0], data[:,1], color='red', marker='+', label='Klasse a')\n",
    "plt.scatter(data[:,2], data[:,3], color='blue', marker='+', label='Klasse e')\n",
    "plt.scatter(data[:,4], data[:,5], color='green', marker='+', label='Klasse i')\n",
    "plt.scatter(data[:,6], data[:,7], color='grey', marker='+', label='Klasse o')\n",
    "plt.scatter(data[:,8], data[:,9], color='yellow', marker='+', label='Klasse u')\n",
    "plt.grid()\n",
    "plt.xlabel('1. Formant in Hz')\n",
    "plt.ylabel('2. Formant in Hz')\n",
    "plt.legend()\n",
    "plt.show()"
   ]
  },
  {
   "cell_type": "code",
   "execution_count": null,
   "metadata": {},
   "outputs": [],
   "source": [
    "print('Datenmatrix:\\n',data)\n",
    "mean_vec = np.mean(data, axis=0)\n",
    "print('Mittelwertvektor:\\n',mean_vec.T)"
   ]
  },
  {
   "cell_type": "code",
   "execution_count": null,
   "metadata": {},
   "outputs": [],
   "source": [
    "print('Varianzvektor:')\n",
    "for i in np.arange(0, data.shape[1], 1):\n",
    "    print(np.cov(data[:,i], ddof=0))"
   ]
  },
  {
   "cell_type": "code",
   "execution_count": null,
   "metadata": {},
   "outputs": [],
   "source": [
    "cov_mat = np.cov(data.T, ddof=0)\n",
    "print('Kovarianzmatrix:\\n',cov_mat)"
   ]
  },
  {
   "cell_type": "code",
   "execution_count": null,
   "metadata": {},
   "outputs": [],
   "source": [
    "cor_mat = np.corrcoef(data.T)\n",
    "print('Korrelationsmatrix:\\n',cor_mat)"
   ]
  }
 ],
 "metadata": {
  "kernelspec": {
   "display_name": "Python 3",
   "language": "python",
   "name": "python3"
  },
  "language_info": {
   "codemirror_mode": {
    "name": "ipython",
    "version": 3
   },
   "file_extension": ".py",
   "mimetype": "text/x-python",
   "name": "python",
   "nbconvert_exporter": "python",
   "pygments_lexer": "ipython3",
   "version": "3.6.5"
  }
 },
 "nbformat": 4,
 "nbformat_minor": 1
}

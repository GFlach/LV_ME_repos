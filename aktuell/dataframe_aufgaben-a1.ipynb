{
 "cells": [
  {
   "cell_type": "markdown",
   "metadata": {},
   "source": [
    "[Inhaltsverzeichnis](table_of_contents.ipynb)"
   ]
  },
  {
   "cell_type": "code",
   "execution_count": 1,
   "metadata": {},
   "outputs": [
    {
     "name": "stdout",
     "output_type": "stream",
     "text": [
      "Using matplotlib backend: Qt5Agg\n",
      "Populating the interactive namespace from numpy and matplotlib\n"
     ]
    }
   ],
   "source": [
    "%matplotlib\n",
    "%pylab inline\n",
    "import numpy as np\n",
    "import matplotlib.pyplot as plt\n",
    "import matplotlib.image as mpimg\n",
    "import os\n",
    "import pandas as pd\n",
    "import functions.sda_help as sh\n",
    "import functions.PrettyTable as pt"
   ]
  },
  {
   "cell_type": "markdown",
   "metadata": {},
   "source": [
    "### Kenngrößen von Dataframes\n",
    "Dataframe: zweidimensionale, heterogene Datenstruktur mit markierten Achsen (Zeilen und Spalten). Dataframes können auf unterschiedliche Art erzeugt werden. Wir betrachten zunächst vorhandene Dataframes."
   ]
  },
  {
   "cell_type": "markdown",
   "metadata": {},
   "source": [
    "### Arbeit mit Dataframes\n",
    "In dieser Übung werden Dataframes untersucht und visualisiert."
   ]
  },
  {
   "cell_type": "markdown",
   "metadata": {},
   "source": [
    "#### Einlesen von Dataframes"
   ]
  },
  {
   "cell_type": "markdown",
   "metadata": {},
   "source": [
    "#### <font color=\"#FF0000\">Eingabezelle</font>"
   ]
  },
  {
   "cell_type": "code",
   "execution_count": 2,
   "metadata": {},
   "outputs": [],
   "source": [
    "df_name = 'df0.txt'"
   ]
  },
  {
   "cell_type": "code",
   "execution_count": 3,
   "metadata": {},
   "outputs": [],
   "source": [
    "df = pd.read_pickle('data/' + df_name)"
   ]
  },
  {
   "cell_type": "markdown",
   "metadata": {},
   "source": [
    "#### Anzeigemöglichkeiten"
   ]
  },
  {
   "cell_type": "code",
   "execution_count": 4,
   "metadata": {},
   "outputs": [
    {
     "data": {
      "text/html": [
       "<div>\n",
       "<style scoped>\n",
       "    .dataframe tbody tr th:only-of-type {\n",
       "        vertical-align: middle;\n",
       "    }\n",
       "\n",
       "    .dataframe tbody tr th {\n",
       "        vertical-align: top;\n",
       "    }\n",
       "\n",
       "    .dataframe thead th {\n",
       "        text-align: right;\n",
       "    }\n",
       "</style>\n",
       "<table border=\"1\" class=\"dataframe\">\n",
       "  <thead>\n",
       "    <tr style=\"text-align: right;\">\n",
       "      <th></th>\n",
       "      <th>x1</th>\n",
       "      <th>x2</th>\n",
       "      <th>Klasse</th>\n",
       "    </tr>\n",
       "  </thead>\n",
       "  <tbody>\n",
       "    <tr>\n",
       "      <th>35</th>\n",
       "      <td>57.734301</td>\n",
       "      <td>17.123240</td>\n",
       "      <td>drei</td>\n",
       "    </tr>\n",
       "    <tr>\n",
       "      <th>36</th>\n",
       "      <td>50.486644</td>\n",
       "      <td>17.645650</td>\n",
       "      <td>drei</td>\n",
       "    </tr>\n",
       "    <tr>\n",
       "      <th>37</th>\n",
       "      <td>52.170434</td>\n",
       "      <td>19.292047</td>\n",
       "      <td>drei</td>\n",
       "    </tr>\n",
       "    <tr>\n",
       "      <th>38</th>\n",
       "      <td>51.035617</td>\n",
       "      <td>16.735876</td>\n",
       "      <td>drei</td>\n",
       "    </tr>\n",
       "    <tr>\n",
       "      <th>39</th>\n",
       "      <td>50.775620</td>\n",
       "      <td>13.577172</td>\n",
       "      <td>drei</td>\n",
       "    </tr>\n",
       "  </tbody>\n",
       "</table>\n",
       "</div>"
      ],
      "text/plain": [
       "           x1         x2 Klasse\n",
       "35  57.734301  17.123240   drei\n",
       "36  50.486644  17.645650   drei\n",
       "37  52.170434  19.292047   drei\n",
       "38  51.035617  16.735876   drei\n",
       "39  50.775620  13.577172   drei"
      ]
     },
     "execution_count": 4,
     "metadata": {},
     "output_type": "execute_result"
    }
   ],
   "source": [
    "# letzte 5 Elemente\n",
    "df.tail()"
   ]
  },
  {
   "cell_type": "code",
   "execution_count": 5,
   "metadata": {},
   "outputs": [
    {
     "data": {
      "text/plain": [
       "Int64Index([ 0,  1,  2,  3,  4,  5,  6,  7,  8,  9, 10, 11, 12, 13, 14, 15, 16,\n",
       "            17, 18, 19,  0,  1,  2,  3,  4,  5,  6,  7,  8,  9, 10, 11, 12, 13,\n",
       "            14, 15, 16, 17, 18, 19,  0,  1,  2,  3,  4,  5,  6,  7,  8,  9, 10,\n",
       "            11, 12, 13, 14, 15, 16, 17, 18, 19, 20, 21, 22, 23, 24, 25, 26, 27,\n",
       "            28, 29, 30, 31, 32, 33, 34, 35, 36, 37, 38, 39],\n",
       "           dtype='int64')"
      ]
     },
     "execution_count": 5,
     "metadata": {},
     "output_type": "execute_result"
    }
   ],
   "source": [
    "# Zeilenbezeichnungen\n",
    "df.index"
   ]
  },
  {
   "cell_type": "code",
   "execution_count": 6,
   "metadata": {},
   "outputs": [
    {
     "data": {
      "text/plain": [
       "Index(['x1', 'x2', 'Klasse'], dtype='object')"
      ]
     },
     "execution_count": 6,
     "metadata": {},
     "output_type": "execute_result"
    }
   ],
   "source": [
    "#Spaltennamen\n",
    "df.columns"
   ]
  },
  {
   "cell_type": "code",
   "execution_count": 7,
   "metadata": {},
   "outputs": [
    {
     "data": {
      "text/plain": [
       "array([[100.80607170182239, 95.83166044146934, 'eins'],\n",
       "       [94.85974820254772, 116.55470215929091, 'eins'],\n",
       "       [101.06263186973456, 89.54960069656164, 'eins'],\n",
       "       [100.1185288654111, 90.47962315096079, 'eins'],\n",
       "       [99.70888367588799, 103.38470250186609, 'eins'],\n",
       "       [103.23206621368735, 96.96370528712879, 'eins'],\n",
       "       [99.6528490806995, 106.87852360352326, 'eins'],\n",
       "       [101.13772948169027, 117.2466426875879, 'eins'],\n",
       "       [91.35531138383718, 98.74853171284661, 'eins'],\n",
       "       [102.09230596227906, 102.45855884551808, 'eins'],\n",
       "       [106.68885257394767, 99.31749581906881, 'eins'],\n",
       "       [98.730714208827, 111.2210021649215, 'eins'],\n",
       "       [100.64884951158182, 96.87679770866457, 'eins'],\n",
       "       [96.47758985493459, 104.77388098599785, 'eins'],\n",
       "       [98.93631629038074, 110.91647577165459, 'eins'],\n",
       "       [95.05669547763947, 121.72340403499487, 'eins'],\n",
       "       [101.81212344395237, 100.4806023841785, 'eins'],\n",
       "       [95.24119382751785, 120.91221966137941, 'eins'],\n",
       "       [100.81979164539479, 120.29417244126044, 'eins'],\n",
       "       [110.87416081998492, 76.23381504126787, 'eins'],\n",
       "       [10.27179390589567, 19.553533399976654, 'zwei'],\n",
       "       [9.535700901938974, 21.464708908352147, 'zwei'],\n",
       "       [9.31796501496894, 21.546511860184996, 'zwei'],\n",
       "       [9.145979708473352, 22.849349801074023, 'zwei'],\n",
       "       [9.719000054739244, 19.01216539001996, 'zwei'],\n",
       "       [9.946212145933893, 19.23769873334625, 'zwei'],\n",
       "       [10.285256554173605, 20.49439732828615, 'zwei'],\n",
       "       [8.798331854961317, 19.57753660500422, 'zwei'],\n",
       "       [11.282864813974905, 21.30408032706065, 'zwei'],\n",
       "       [10.525883956327577, 20.34111667977664, 'zwei'],\n",
       "       [8.34613611101516, 18.896564330562153, 'zwei'],\n",
       "       [8.581361730895303, 21.95322983098794, 'zwei'],\n",
       "       [9.69336192799342, 20.334088068549296, 'zwei'],\n",
       "       [10.918170881937874, 20.095794542904265, 'zwei'],\n",
       "       [10.994163756817688, 17.999466054070766, 'zwei'],\n",
       "       [9.70530362122577, 18.889984206879824, 'zwei'],\n",
       "       [10.386931177439598, 19.30166055118175, 'zwei'],\n",
       "       [7.041071676782572, 19.993931963115394, 'zwei'],\n",
       "       [9.25906218441044, 17.61880328923331, 'zwei'],\n",
       "       [11.715333212892528, 20.59995547113028, 'zwei'],\n",
       "       [53.542130265423985, 12.256487779641738, 'drei'],\n",
       "       [51.51721798370882, 18.819677956980428, 'drei'],\n",
       "       [50.45386209298921, 11.021176905819505, 'drei'],\n",
       "       [57.56222571450822, 17.926694961407783, 'drei'],\n",
       "       [57.19633844535913, 18.438296799008555, 'drei'],\n",
       "       [50.456769852966914, 11.987857269810316, 'drei'],\n",
       "       [52.495184382283576, 19.69589106493832, 'drei'],\n",
       "       [58.25170140878429, 18.509634597098273, 'drei'],\n",
       "       [51.284016359336995, 15.151080720247368, 'drei'],\n",
       "       [56.66013936693838, 13.013975390007598, 'drei'],\n",
       "       [53.15378272352465, 11.525498251709239, 'drei'],\n",
       "       [51.037893064143624, 12.259891124555876, 'drei'],\n",
       "       [57.55703351906515, 12.2530680274626, 'drei'],\n",
       "       [51.69989327383152, 17.574108101825942, 'drei'],\n",
       "       [54.203586898972205, 14.76735308695787, 'drei'],\n",
       "       [55.52566248471599, 19.0972680588396, 'drei'],\n",
       "       [59.79318083541926, 13.038678047136685, 'drei'],\n",
       "       [54.86614620125874, 16.540390963340194, 'drei'],\n",
       "       [52.11480822123255, 13.960231025820262, 'drei'],\n",
       "       [57.26604594616911, 17.96013813598203, 'drei'],\n",
       "       [51.283124387968876, 17.45164196884869, 'drei'],\n",
       "       [55.3103990970011, 13.751499079332932, 'drei'],\n",
       "       [58.708806095175504, 16.35633794908923, 'drei'],\n",
       "       [55.572213662814, 19.687235101496757, 'drei'],\n",
       "       [56.460920781197764, 13.86746639876851, 'drei'],\n",
       "       [59.198230488124274, 13.923823786021478, 'drei'],\n",
       "       [54.66377490238124, 11.963524805475345, 'drei'],\n",
       "       [50.22409222197649, 15.033170148354756, 'drei'],\n",
       "       [56.26921272363108, 16.637593742941615, 'drei'],\n",
       "       [51.541164686414525, 17.37966104806129, 'drei'],\n",
       "       [52.340870658748344, 17.98648116735894, 'drei'],\n",
       "       [58.91151290448979, 11.052823248904808, 'drei'],\n",
       "       [55.48098783720268, 16.146205236264816, 'drei'],\n",
       "       [52.99609324109084, 11.355537810089016, 'drei'],\n",
       "       [51.6190102853353, 19.156460728103916, 'drei'],\n",
       "       [57.73430058949499, 17.12324014108745, 'drei'],\n",
       "       [50.48664382076305, 17.645650266408325, 'drei'],\n",
       "       [52.17043403870805, 19.292046685060612, 'drei'],\n",
       "       [51.03561746311426, 16.735875807156095, 'drei'],\n",
       "       [50.775619664536244, 13.577172034807994, 'drei']], dtype=object)"
      ]
     },
     "execution_count": 7,
     "metadata": {},
     "output_type": "execute_result"
    }
   ],
   "source": [
    "#Datenwerte\n",
    "df.values"
   ]
  },
  {
   "cell_type": "code",
   "execution_count": null,
   "metadata": {},
   "outputs": [],
   "source": [
    "# Angabe statistischer Kenngrößen\n",
    "df.describe()"
   ]
  },
  {
   "cell_type": "code",
   "execution_count": null,
   "metadata": {},
   "outputs": [],
   "source": [
    "# Auswahl von Spalten\n",
    "df['x1']"
   ]
  },
  {
   "cell_type": "code",
   "execution_count": 8,
   "metadata": {},
   "outputs": [
    {
     "data": {
      "text/html": [
       "<div>\n",
       "<style scoped>\n",
       "    .dataframe tbody tr th:only-of-type {\n",
       "        vertical-align: middle;\n",
       "    }\n",
       "\n",
       "    .dataframe tbody tr th {\n",
       "        vertical-align: top;\n",
       "    }\n",
       "\n",
       "    .dataframe thead th {\n",
       "        text-align: right;\n",
       "    }\n",
       "</style>\n",
       "<table border=\"1\" class=\"dataframe\">\n",
       "  <thead>\n",
       "    <tr style=\"text-align: right;\">\n",
       "      <th></th>\n",
       "      <th>x1</th>\n",
       "      <th>x2</th>\n",
       "      <th>Klasse</th>\n",
       "    </tr>\n",
       "  </thead>\n",
       "  <tbody>\n",
       "    <tr>\n",
       "      <th>0</th>\n",
       "      <td>100.806072</td>\n",
       "      <td>95.831660</td>\n",
       "      <td>eins</td>\n",
       "    </tr>\n",
       "    <tr>\n",
       "      <th>1</th>\n",
       "      <td>94.859748</td>\n",
       "      <td>116.554702</td>\n",
       "      <td>eins</td>\n",
       "    </tr>\n",
       "    <tr>\n",
       "      <th>2</th>\n",
       "      <td>101.062632</td>\n",
       "      <td>89.549601</td>\n",
       "      <td>eins</td>\n",
       "    </tr>\n",
       "  </tbody>\n",
       "</table>\n",
       "</div>"
      ],
      "text/plain": [
       "           x1          x2 Klasse\n",
       "0  100.806072   95.831660   eins\n",
       "1   94.859748  116.554702   eins\n",
       "2  101.062632   89.549601   eins"
      ]
     },
     "execution_count": 8,
     "metadata": {},
     "output_type": "execute_result"
    }
   ],
   "source": [
    "# Auswahl von Zeilen\n",
    "df[0:3]"
   ]
  },
  {
   "cell_type": "code",
   "execution_count": null,
   "metadata": {},
   "outputs": [],
   "source": [
    "# Zugriff über Zeilenname\n",
    "df.loc[19]"
   ]
  },
  {
   "cell_type": "code",
   "execution_count": null,
   "metadata": {},
   "outputs": [],
   "source": [
    "# Zugriff über Position\n",
    "df.iloc[3:5, 0:1]"
   ]
  },
  {
   "cell_type": "code",
   "execution_count": null,
   "metadata": {},
   "outputs": [],
   "source": [
    "# boolescher Zugriff\n",
    "df[df.Klasse == 'eins']"
   ]
  },
  {
   "cell_type": "markdown",
   "metadata": {},
   "source": [
    "#### Operationen\n",
    "Mittelwert pro Spalte"
   ]
  },
  {
   "cell_type": "code",
   "execution_count": null,
   "metadata": {},
   "outputs": [],
   "source": [
    "df.mean()"
   ]
  },
  {
   "cell_type": "markdown",
   "metadata": {},
   "source": [
    "Mittelwert pro Zeile"
   ]
  },
  {
   "cell_type": "code",
   "execution_count": null,
   "metadata": {},
   "outputs": [],
   "source": [
    "df.mean(1)"
   ]
  },
  {
   "cell_type": "markdown",
   "metadata": {},
   "source": [
    "### Verwendung von Sprachdaten\n",
    "Es wird ein Dataframe verwendet, in dem von 31 Sprechern die Frequenzen des 1. und 2. Formanten der Vokale a, e, i, o und u enthalten sind."
   ]
  },
  {
   "cell_type": "code",
   "execution_count": null,
   "metadata": {},
   "outputs": [],
   "source": [
    "speech_df = pd.read_csv('data/sprecher.csv', sep=';')"
   ]
  },
  {
   "cell_type": "code",
   "execution_count": null,
   "metadata": {},
   "outputs": [],
   "source": [
    "speech_df.describe()"
   ]
  },
  {
   "cell_type": "code",
   "execution_count": null,
   "metadata": {},
   "outputs": [],
   "source": [
    "data = speech_df.values"
   ]
  },
  {
   "cell_type": "code",
   "execution_count": null,
   "metadata": {},
   "outputs": [],
   "source": [
    "a_f1 = data[:,1]\n",
    "a_f2 = data[:,2]\n",
    "plt.figure(figsize=(7,7))\n",
    "plt.scatter(data[:,1], data[:,2], color='red', marker='+', label='Klasse a')\n",
    "plt.scatter(data[:,3], data[:,4], color='blue', marker='+', label='Klasse e')\n",
    "plt.scatter(data[:,5], data[:,6], color='green', marker='+', label='Klasse i')\n",
    "plt.scatter(data[:,7], data[:,8], color='grey', marker='+', label='Klasse o')\n",
    "plt.scatter(data[:,9], data[:,10], color='yellow', marker='+', label='Klasse u')\n",
    "plt.grid()\n",
    "plt.xlabel('1. Formant in Hz')\n",
    "plt.ylabel('2. Formant in Hz')\n",
    "plt.legend()\n",
    "plt.show()"
   ]
  },
  {
   "cell_type": "code",
   "execution_count": null,
   "metadata": {},
   "outputs": [],
   "source": [
    "print('Datenmatrix:\\n',data)\n",
    "mean_vec = np.mean(data, axis=0)\n",
    "print('Mittelwertvektor:\\n',mean_vec.T)"
   ]
  },
  {
   "cell_type": "code",
   "execution_count": null,
   "metadata": {},
   "outputs": [],
   "source": [
    "print('Varianzvektor:')\n",
    "print(np.cov(sp[:,0], ddof=0), np.cov(data[:,1], ddof=0), np.cov(sp[:,2], ddof=0))"
   ]
  },
  {
   "cell_type": "code",
   "execution_count": null,
   "metadata": {},
   "outputs": [],
   "source": [
    "cov_mat = np.cov(data.T, ddof=0)\n",
    "print('Kovarianzmatrix:\\n',cov_mat)"
   ]
  },
  {
   "cell_type": "code",
   "execution_count": null,
   "metadata": {},
   "outputs": [],
   "source": [
    "cor_mat = np.corrcoef(data.T)\n",
    "print('Korrelationsmatrix:\\n',cor_mat)"
   ]
  }
 ],
 "metadata": {
  "kernelspec": {
   "display_name": "Python 3",
   "language": "python",
   "name": "python3"
  },
  "language_info": {
   "codemirror_mode": {
    "name": "ipython",
    "version": 3
   },
   "file_extension": ".py",
   "mimetype": "text/x-python",
   "name": "python",
   "nbconvert_exporter": "python",
   "pygments_lexer": "ipython3",
   "version": "3.7.1"
  }
 },
 "nbformat": 4,
 "nbformat_minor": 1
}

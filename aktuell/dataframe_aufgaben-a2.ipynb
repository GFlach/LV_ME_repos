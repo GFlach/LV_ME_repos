{
 "cells": [
  {
   "cell_type": "markdown",
   "metadata": {},
   "source": [
    "[Inhaltsverzeichnis](table_of_contents.ipynb)"
   ]
  },
  {
   "cell_type": "code",
   "execution_count": null,
   "metadata": {},
   "outputs": [],
   "source": [
    "%matplotlib\n",
    "%pylab inline\n",
    "import numpy as np\n",
    "import matplotlib.pyplot as plt\n",
    "import matplotlib.image as mpimg\n",
    "import os\n",
    "import pandas as pd\n",
    "import functions.sda_help as sh\n",
    "import functions.PrettyTable as pt\n",
    "import functions.Perceptron as pc\n",
    "import functions.showres as sr"
   ]
  },
  {
   "cell_type": "markdown",
   "metadata": {},
   "source": [
    "### Darstellung der Klassen (max. 10)"
   ]
  },
  {
   "cell_type": "code",
   "execution_count": null,
   "metadata": {},
   "outputs": [],
   "source": [
    "df_name = 'df0.txt'\n",
    "df = pd.read_pickle('data/' + df_name)"
   ]
  },
  {
   "cell_type": "code",
   "execution_count": null,
   "metadata": {},
   "outputs": [],
   "source": [
    "colors = ['green', 'red', 'blue', 'yellow', 'magenta', 'lime', 'skyblue', 'orangered', 'cyan', 'aqua']\n",
    "hist_cl = np.unique(df['Klasse'].values)\n",
    "anz_class = len(hist_cl)\n",
    "#plt.figure(figsize(7,7))\n",
    "for hist_cl, color in zip(hist_cl, colors):\n",
    "    df_h = df[df.Klasse == hist_cl].values\n",
    "    y = df_h[:,0:2]\n",
    "    plt.scatter(y[:,0], y[:,1],\n",
    "            color=color, marker='o', label='Klasse ' + hist_cl)\n",
    "plt.xlabel('x1')\n",
    "plt.ylabel('x2')\n",
    "plt.legend(loc='upper left')\n",
    "plt.grid()\n",
    "plt.show()"
   ]
  },
  {
   "cell_type": "markdown",
   "metadata": {},
   "source": [
    "### Test Perzeptron\n",
    "Das Perzeptron unterscheidet in 2 Klassen, daher werden aus dem Dataframe 2 zu untersuchende Klassen ausgewählt.\n",
    "#### <font color=\"#FF0000\">Eingabezelle</font>"
   ]
  },
  {
   "cell_type": "code",
   "execution_count": null,
   "metadata": {},
   "outputs": [],
   "source": [
    "p_class = ['zwei', 'eins']"
   ]
  },
  {
   "cell_type": "code",
   "execution_count": null,
   "metadata": {},
   "outputs": [],
   "source": [
    "df_h = df[df.Klasse == p_class[0]]\n",
    "df_h1 = df[df.Klasse == p_class[1]]\n",
    "df_h = df_h.append(df_h1)\n",
    "X = df_h.iloc[:,0:2].values\n",
    "y = df_h.iloc[:, 2].values\n",
    "y = np.where(y == p_class[0], -1, 1)"
   ]
  },
  {
   "cell_type": "code",
   "execution_count": null,
   "metadata": {},
   "outputs": [],
   "source": [
    "ppn = pc.Perceptron(eta=0.1, n_iter=1000)\n",
    "w = [0.0, 0.0, 0.0]\n",
    "ppn.fit(X, y, w)\n",
    "\n",
    "plt.plot(range(1, len(ppn.errors_) + 1), ppn.errors_, marker='o')\n",
    "plt.xlabel('Epochs')\n",
    "plt.ylabel('Number of updates')\n",
    "\n",
    "# plt.savefig('images/02_07.png', dpi=300)\n",
    "plt.show()"
   ]
  },
  {
   "cell_type": "code",
   "execution_count": null,
   "metadata": {},
   "outputs": [],
   "source": [
    "sr.plot_decision_regions(X, y, classifier=ppn, resolution=0.1)\n",
    "plt.xlabel('x1')\n",
    "plt.ylabel('x2')\n",
    "plt.legend(loc='upper left')\n",
    "# plt.savefig('images/02_08.png', dpi=300)\n",
    "plt.show()"
   ]
  }
 ],
 "metadata": {
  "kernelspec": {
   "display_name": "Python 3",
   "language": "python",
   "name": "python3"
  },
  "language_info": {
   "codemirror_mode": {
    "name": "ipython",
    "version": 3
   },
   "file_extension": ".py",
   "mimetype": "text/x-python",
   "name": "python",
   "nbconvert_exporter": "python",
   "pygments_lexer": "ipython3",
   "version": "3.6.5"
  }
 },
 "nbformat": 4,
 "nbformat_minor": 1
}

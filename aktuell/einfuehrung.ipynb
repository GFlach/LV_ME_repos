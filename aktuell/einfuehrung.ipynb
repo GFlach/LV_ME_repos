{
 "cells": [
  {
   "cell_type": "markdown",
   "metadata": {
    "collapsed": true
   },
   "source": [
    "[Inhaltsverzeichnis](table_of_contents.ipynb)"
   ]
  },
  {
   "cell_type": "markdown",
   "metadata": {},
   "source": [
    "# 1 Einführung"
   ]
  },
  {
   "cell_type": "markdown",
   "metadata": {},
   "source": [
    "## 1.1 Definition\n",
    "<img src=\"images/1-1-einfuehrung.jpg\" width=\"400\">\n",
    "### Beispiel\n",
    "<img src=\"images/1-1-einfuehrung1.jpg\" width=\"300\">\n",
    "## 1.2 Einbettung und Abgrenzung\n",
    "## 1.3 Begriffe\n",
    "## 1.4 Postulate von Niemann\n",
    "## 1.5 Beispiele für Muster\n",
    "### Einkanalige Zeitreihen\n",
    "<img src=\"images/1-5-einkanalig.jpg\" width=\"500\">\n",
    "### Zweikanalige Zeitreihen\n",
    "<img src=\"images/1-5-zweikanalig.jpg\" width=\"500\">\n",
    "### Mehrkanalige Zeitreihen\n",
    "<img src=\"images/1-5-mehrkanalig.jpg\" width=\"500\">\n",
    "### Grauwertbilder\n",
    "<img src=\"images/1-5-grauwert.jpg\" width=\"500\">\n",
    "### Mehrkanalige Bilder\n",
    "<img src=\"images/1-5-mehrkanalig-bild.jpg\" width=\"500\">\n",
    "### Schematisierte Bilder\n",
    "<img src=\"images/1-5-schema.jpg\" width=\"500\">\n",
    "### Dreidimensionale Bilder\n",
    "<img src=\"images/1-5-dreidimensional.jpg\" width=\"500\">\n",
    "### Bildfolgen\n",
    "<img src=\"images/1-5-bildfolge.jpg\" width=\"500\">"
   ]
  }
 ],
 "metadata": {
  "anaconda-cloud": {},
  "kernelspec": {
   "display_name": "Python 3",
   "language": "python",
   "name": "python3"
  },
  "language_info": {
   "codemirror_mode": {
    "name": "ipython",
    "version": 3
   },
   "file_extension": ".py",
   "mimetype": "text/x-python",
   "name": "python",
   "nbconvert_exporter": "python",
   "pygments_lexer": "ipython3",
   "version": "3.6.1"
  }
 },
 "nbformat": 4,
 "nbformat_minor": 1
}

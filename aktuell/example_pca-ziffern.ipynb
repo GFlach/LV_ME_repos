{
 "cells": [
  {
   "cell_type": "code",
   "execution_count": 1,
   "metadata": {},
   "outputs": [
    {
     "name": "stdout",
     "output_type": "stream",
     "text": [
      "Populating the interactive namespace from numpy and matplotlib\n"
     ]
    }
   ],
   "source": [
    "import numpy as np\n",
    "import matplotlib.pyplot as plt\n",
    "%pylab inline"
   ]
  },
  {
   "cell_type": "markdown",
   "metadata": {},
   "source": [
    "## Beispiel 1\n",
    "Hauptachsentransformation zur Entkorrelierung von Datenreihen"
   ]
  },
  {
   "cell_type": "markdown",
   "metadata": {},
   "source": [
    "#### Datendefinition"
   ]
  },
  {
   "cell_type": "code",
   "execution_count": 2,
   "metadata": {},
   "outputs": [],
   "source": [
    "all_samples = np.array([2,3,16,10,14,9,23,11,12,8,18,10,6,5]).reshape((7,2))"
   ]
  },
  {
   "cell_type": "markdown",
   "metadata": {},
   "source": [
    "#### Darstellung Originaldaten"
   ]
  },
  {
   "cell_type": "code",
   "execution_count": 17,
   "metadata": {},
   "outputs": [
    {
     "data": {
      "image/png": "[encoded data removed]",
      "text/plain": [
       "<Figure size 432x288 with 1 Axes>"
      ]
     },
     "metadata": {},
     "output_type": "display_data"
    }
   ],
   "source": [
    "plt.plot(all_samples_mf[:,0],all_samples_mf[:,1], ls='', marker='o')\n",
    "plt.grid()\n",
    "plt.xlabel('x1')\n",
    "plt.ylabel('x2')\n",
    "plt.axis([-15, 15, -15, 15])\n",
    "plt.title('Originaldaten')\n",
    "plt.show()"
   ]
  },
  {
   "cell_type": "markdown",
   "metadata": {},
   "source": [
    "#### Mittelwertvektor"
   ]
  },
  {
   "cell_type": "code",
   "execution_count": 4,
   "metadata": {},
   "outputs": [],
   "source": [
    "mean_vector = np.mean(all_samples,axis=0)"
   ]
  },
  {
   "cell_type": "code",
   "execution_count": 6,
   "metadata": {},
   "outputs": [],
   "source": [
    "all_samples_mf = all_samples - np.hstack(mean_vector)"
   ]
  },
  {
   "cell_type": "markdown",
   "metadata": {},
   "source": [
    "#### mittelwertfreie Daten"
   ]
  },
  {
   "cell_type": "markdown",
   "metadata": {},
   "source": [
    "#### Kovarianzmatrix"
   ]
  },
  {
   "cell_type": "code",
   "execution_count": 15,
   "metadata": {},
   "outputs": [],
   "source": [
    "all_samples_cov = 1/(all_samples.shape[0])*np.dot(np.transpose(all_samples_mf), all_samples_mf)"
   ]
  },
  {
   "cell_type": "markdown",
   "metadata": {},
   "source": [
    "#### Eigenwerte, Eigenvektoren"
   ]
  },
  {
   "cell_type": "code",
   "execution_count": 16,
   "metadata": {},
   "outputs": [
    {
     "data": {
      "text/plain": [
       "matrix([[277.39394226,  38.18170767],\n",
       "        [ 38.18170767,   6.74891489]])"
      ]
     },
     "execution_count": 16,
     "metadata": {},
     "output_type": "execute_result"
    }
   ],
   "source": [
    "all_samples_cov"
   ]
  },
  {
   "cell_type": "code",
   "execution_count": 10,
   "metadata": {},
   "outputs": [
    {
     "name": "stdout",
     "output_type": "stream",
     "text": [
      "[ 0.31438268 50.82847447]\n"
     ]
    }
   ],
   "source": [
    "eig_val, eig_vec = np.linalg.eigh(all_samples_cov)\n",
    "print(eig_val)"
   ]
  },
  {
   "cell_type": "markdown",
   "metadata": {},
   "source": [
    "#### Transformationsmatrix"
   ]
  },
  {
   "cell_type": "code",
   "execution_count": 11,
   "metadata": {},
   "outputs": [],
   "source": [
    "klt = np.append(-eig_vec[1],-eig_vec[0]).reshape(2,2)"
   ]
  },
  {
   "cell_type": "code",
   "execution_count": 12,
   "metadata": {},
   "outputs": [
    {
     "data": {
      "text/plain": [
       "array([[ 0.92691115,  0.37528086],\n",
       "       [-0.37528086,  0.92691115]])"
      ]
     },
     "execution_count": 12,
     "metadata": {},
     "output_type": "execute_result"
    }
   ],
   "source": [
    "klt"
   ]
  },
  {
   "cell_type": "markdown",
   "metadata": {},
   "source": [
    "#### transformierte Daten"
   ]
  },
  {
   "cell_type": "code",
   "execution_count": 13,
   "metadata": {},
   "outputs": [
    {
     "name": "stdout",
     "output_type": "stream",
     "text": [
      "[[ 2.97966488  2.03017172]\n",
      " [18.58338697  3.26461768]\n",
      " [16.35428382  3.08826826]\n",
      " [25.44704586  1.5645628 ]\n",
      " [14.12518066  2.91191884]\n",
      " [20.43720927  2.51405596]\n",
      " [ 7.43787119  2.38287057]]\n"
     ]
    }
   ],
   "source": [
    "trans_samples = (np.matrix(klt) * np.matrix(all_samples).T).T\n",
    "print(trans_samples)"
   ]
  },
  {
   "cell_type": "code",
   "execution_count": 14,
   "metadata": {},
   "outputs": [
    {
     "data": {
      "image/png": "[encoded data removed]",
      "text/plain": [
       "<Figure size 432x288 with 1 Axes>"
      ]
     },
     "metadata": {},
     "output_type": "display_data"
    }
   ],
   "source": [
    "plt.plot(trans_samples[:,0],trans_samples[:,1], ls='', marker='o')\n",
    "plt.grid()\n",
    "plt.xlabel('x1')\n",
    "plt.ylabel('x2')\n",
    "plt.axis([0, 30, 0, 12])\n",
    "plt.title('Originaldaten')\n",
    "plt.show()"
   ]
  },
  {
   "cell_type": "markdown",
   "metadata": {},
   "source": [
    "#### transformierter Mittelwert"
   ]
  },
  {
   "cell_type": "code",
   "execution_count": null,
   "metadata": {},
   "outputs": [],
   "source": [
    "trans_mean = np.matrix(klt) * np.matrix(mean_vector).T\n",
    "print(trans_mean)"
   ]
  },
  {
   "cell_type": "markdown",
   "metadata": {},
   "source": [
    "#### transformierte Kovarianzmatrix"
   ]
  },
  {
   "cell_type": "code",
   "execution_count": null,
   "metadata": {},
   "outputs": [],
   "source": [
    "trans_cov = np.round(np.matrix(klt) * np.matrix(all_samples_cov) * np.matrix(klt).T, 3)\n",
    "print(trans_cov)"
   ]
  },
  {
   "cell_type": "markdown",
   "metadata": {},
   "source": [
    "## Beispiel 2\n",
    "Auswahl signifikanter Merkmale in einfachen Ziffernbildern"
   ]
  },
  {
   "cell_type": "code",
   "execution_count": null,
   "metadata": {},
   "outputs": [],
   "source": [
    "all_samples = np.array([0,1,0,0,1,0,0,1,0,0,1,0,0,1,0,1,1,1,0,0,1,1,1,1,1,0,0,\n",
    "             1,1,1,1,1,1,0,0,1,0,1,1,0,0,1,1,1,1,1,0,1,1,0,1,1,1,1,\n",
    "             0,0,1,0,0,1,1,1,1,1,0,0,1,1,1,0,0,1,1,1,1,1,1,1,1,0,0,\n",
    "             1,1,1,1,0,1,1,1,1,1,1,1,0,0,1,0,0,1,0,0,1,0,0,1,1,1,1,\n",
    "             1,0,1,1,1,1,1,0,1,1,1,1,1,1,1,1,0,1,1,1,1,0,0,1,1,1,1,\n",
    "             1,1,1,1,0,1,1,0,1,1,0,1,1,1,1]).reshape((10,15))"
   ]
  },
  {
   "cell_type": "code",
   "execution_count": null,
   "metadata": {},
   "outputs": [],
   "source": [
    "for i in range(all_samples.shape[0]):\n",
    "    plt.subplot(2,5,i+1)\n",
    "    #b1 = np.flipud(np.transpose(num[i,:].reshape((5,3))))\n",
    "    b1 = np.flipud(np.transpose(all_samples[i,::-1].reshape((5,3))))\n",
    "    plt.imshow(b1.T, origin='lower', cmap=plt.cm.gray_r, interpolation='nearest')\n",
    "    plt.xticks([])\n",
    "    plt.yticks([])"
   ]
  },
  {
   "cell_type": "code",
   "execution_count": null,
   "metadata": {},
   "outputs": [],
   "source": [
    "mean_vector = np.mean(all_samples,axis=0)\n",
    "print('Mean Vector:\\n', mean_vector)"
   ]
  },
  {
   "cell_type": "code",
   "execution_count": null,
   "metadata": {},
   "outputs": [],
   "source": [
    "all_samples_mf = all_samples - np.hstack(mean_vector)\n",
    "print('Mittelwertfreie Daten:\\n', all_samples_mf)"
   ]
  },
  {
   "cell_type": "code",
   "execution_count": null,
   "metadata": {},
   "outputs": [],
   "source": [
    "all_samples_cov = 1/(all_samples.shape[0])*np.dot(np.transpose(all_samples_mf), all_samples_mf)\n",
    "print('Kovarianzmatrix:\\n', all_samples_cov)"
   ]
  },
  {
   "cell_type": "code",
   "execution_count": null,
   "metadata": {},
   "outputs": [],
   "source": [
    "eig_val_cov, eig_vec_cov = np.linalg.eigh(all_samples_cov)\n",
    "print(np.flip(np.sort(eig_val_cov), axis=0))"
   ]
  },
  {
   "cell_type": "code",
   "execution_count": null,
   "metadata": {},
   "outputs": [],
   "source": [
    "plt.imshow(np.flipud(np.transpose(mean_vector[::-1].reshape((5,3)))).T, origin='lower',\n",
    "                                  cmap=plt.cm.gray_r, interpolation='nearest')\n",
    "plt.xticks([])\n",
    "plt.yticks([])\n",
    "plt.title('Mittelwertbild')\n",
    "plt.show()"
   ]
  },
  {
   "cell_type": "code",
   "execution_count": null,
   "metadata": {},
   "outputs": [],
   "source": [
    "#eig_pairs = [(eig_vals[i], eig_vecs[:,i]) for i in range(len(eig_vals))]\n",
    "eig_pairs = [(eig_val_cov[i], eig_vec_cov[:,i]) for i in range(len(eig_val_cov))]\n",
    "eig_pairs = sorted(eig_pairs, key=lambda k:k[0], reverse=True)"
   ]
  },
  {
   "cell_type": "code",
   "execution_count": null,
   "metadata": {},
   "outputs": [],
   "source": [
    "for i in range(len(eig_val_cov)):\n",
    "    eig_vec = eig_pairs[i][1]\n",
    "    plt.subplot(3,5,i+1)\n",
    "    #b1 = np.flipud(np.transpose(num[i,:].reshape((5,3))))\n",
    "    b1 = np.flipud(np.transpose(eig_vec[::-1].reshape((5,3))))\n",
    "    plt.imshow(b1.T, origin='lower', cmap=plt.cm.gray_r, interpolation='nearest')\n",
    "    plt.xticks([])\n",
    "    plt.yticks([])"
   ]
  },
  {
   "cell_type": "markdown",
   "metadata": {},
   "source": [
    "Sortierte Eigenvektoren werden in Eigenvektormatrix zusammengefasst."
   ]
  },
  {
   "cell_type": "code",
   "execution_count": null,
   "metadata": {},
   "outputs": [],
   "source": [
    "eig_vec_mat = []\n",
    "for i in range(len(eig_val_cov)):\n",
    "    eig_vec_mat.append(eig_pairs[i][1])\n",
    "#print(eig_vec_mat)"
   ]
  },
  {
   "cell_type": "markdown",
   "metadata": {},
   "source": [
    "Erste n Eigenvektoren werden ausgewählt."
   ]
  },
  {
   "cell_type": "code",
   "execution_count": null,
   "metadata": {},
   "outputs": [],
   "source": [
    "n = 15\n",
    "eig_vec_mat_red = np.array(eig_vec_mat[0:n+1])"
   ]
  },
  {
   "cell_type": "code",
   "execution_count": null,
   "metadata": {},
   "outputs": [],
   "source": [
    "x = np.dot(np.dot(all_samples_mf,np.transpose(eig_vec_mat_red)),eig_vec_mat_red)"
   ]
  },
  {
   "cell_type": "code",
   "execution_count": null,
   "metadata": {},
   "outputs": [],
   "source": [
    "res = x + np.hstack(mean_vector)"
   ]
  },
  {
   "cell_type": "code",
   "execution_count": null,
   "metadata": {},
   "outputs": [],
   "source": [
    "for i in range(res.shape[0]):\n",
    "    plt.subplot(2,5,i+1)\n",
    "    #b1 = np.flipud(np.transpose(num[i,:].reshape((5,3))))\n",
    "    b1 = np.flipud(np.transpose(res[i,::-1].reshape((5,3))))\n",
    "    plt.imshow(b1.T, origin='lower', cmap=plt.cm.gray_r, interpolation='nearest')\n",
    "    plt.xticks([])\n",
    "    plt.yticks([])"
   ]
  },
  {
   "cell_type": "code",
   "execution_count": null,
   "metadata": {},
   "outputs": [],
   "source": []
  }
 ],
 "metadata": {
  "kernelspec": {
   "display_name": "Python 3",
   "language": "python",
   "name": "python3"
  },
  "language_info": {
   "codemirror_mode": {
    "name": "ipython",
    "version": 3
   },
   "file_extension": ".py",
   "mimetype": "text/x-python",
   "name": "python",
   "nbconvert_exporter": "python",
   "pygments_lexer": "ipython3",
   "version": "3.6.5"
  }
 },
 "nbformat": 4,
 "nbformat_minor": 1
}

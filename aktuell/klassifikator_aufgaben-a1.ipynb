{
 "cells": [
  {
   "cell_type": "markdown",
   "metadata": {},
   "source": [
    "### Beispiel Perzeptron\n",
    "Für ein linear trennbares Zweiklassenproblem sollen die Parameter des Perzeptronklassifikators gelernt werden. Dabei soll folgendes untersucht werden:\n",
    "- Einfluss der Lernkonstanten $\\alpha$\n",
    "- Einfluss der Reihenfolge der Daten"
   ]
  },
  {
   "cell_type": "code",
   "execution_count": null,
   "metadata": {
    "scrolled": true
   },
   "outputs": [],
   "source": [
    "%pylab inline\n",
    "import matplotlib.pyplot as plt\n",
    "import numpy as np\n",
    "import pandas as pd\n",
    "\n",
    "import functions.sda_help as sh"
   ]
  },
  {
   "cell_type": "markdown",
   "metadata": {},
   "source": [
    "### Aufgabe 3.8\n",
    "Daten, Klassenbezeichnungen und Trennflächenparameter entsprechend Aufgabe 3.8 festlegen"
   ]
  },
  {
   "cell_type": "code",
   "execution_count": null,
   "metadata": {},
   "outputs": [],
   "source": [
    "X = pd.read_pickle('data/bsp_a3-8.txt').values[:,0:2]\n",
    "X = np.insert(X, 0, values=1, axis=1)\n",
    "y = pd.read_pickle('data/bsp_a3-8.txt').values[:,2]\n",
    "w = np.array([0.0, 1.0, -1.0])"
   ]
  },
  {
   "cell_type": "code",
   "execution_count": null,
   "metadata": {},
   "outputs": [],
   "source": [
    "sh.show_res(X, y, w)"
   ]
  },
  {
   "cell_type": "markdown",
   "metadata": {},
   "source": [
    "#### schrittweise Änderung\n",
    "Datenpunkt, Klasse und Lernkonstante für Berechnung der neuen Trennfläche eingeben"
   ]
  },
  {
   "cell_type": "code",
   "execution_count": null,
   "metadata": {},
   "outputs": [],
   "source": [
    "d_korr = [0.5, 1.5]\n",
    "cl = -1\n",
    "alpha = 0.1"
   ]
  },
  {
   "cell_type": "code",
   "execution_count": null,
   "metadata": {},
   "outputs": [],
   "source": [
    "d_korr = np.append(1, d_korr)\n",
    "w = w + 2 * alpha * d_korr * cl\n",
    "print(w)"
   ]
  },
  {
   "cell_type": "code",
   "execution_count": null,
   "metadata": {},
   "outputs": [],
   "source": [
    "sh.show_res(X, y, w)"
   ]
  },
  {
   "cell_type": "markdown",
   "metadata": {},
   "source": [
    "#### Iterative Berechnung:\n",
    "- Lernstichprobe und Ergebnisvektor siehe oben\n",
    "- Lernkonstante eingeben\n",
    "- Anzahl der Iterationen eingeben\n",
    "- Parametervektor festlegen"
   ]
  },
  {
   "cell_type": "code",
   "execution_count": null,
   "metadata": {},
   "outputs": [],
   "source": [
    "alpha = 0.1\n",
    "n_iter = 20\n",
    "w = np.array([0.0, 1.0, -1.0])"
   ]
  },
  {
   "cell_type": "code",
   "execution_count": null,
   "metadata": {},
   "outputs": [],
   "source": [
    "i, w = sh.perceptron(X, y, w, alpha, n_iter)"
   ]
  },
  {
   "cell_type": "code",
   "execution_count": null,
   "metadata": {},
   "outputs": [],
   "source": [
    "print('Iterationen bis Konvergenz: ', i)\n",
    "sh.show_res(X, y, w)"
   ]
  },
  {
   "cell_type": "markdown",
   "metadata": {
    "collapsed": true
   },
   "source": [
    "### Beispiel 2\n",
    "linear trennbarar Datensatz mit 20 Mustern pro Klasse"
   ]
  },
  {
   "cell_type": "code",
   "execution_count": null,
   "metadata": {},
   "outputs": [],
   "source": [
    "X = pd.read_pickle('data/df_perz.txt').values[:,0:2]\n",
    "X = np.insert(X, 0, values=1, axis=1)\n",
    "y = pd.read_pickle('data/df_perz.txt').values[:,2]"
   ]
  },
  {
   "cell_type": "code",
   "execution_count": null,
   "metadata": {},
   "outputs": [],
   "source": [
    "w = [0.0, 1.0, -1.0]\n",
    "alpha = 0.1\n",
    "n_iter = 2000\n",
    "sh.show_res(X, y, w)"
   ]
  },
  {
   "cell_type": "code",
   "execution_count": null,
   "metadata": {},
   "outputs": [],
   "source": [
    "i, w = sh.perceptron(X, y, w, alpha, n_iter)"
   ]
  },
  {
   "cell_type": "code",
   "execution_count": null,
   "metadata": {},
   "outputs": [],
   "source": [
    "print('Iterationen bis Konvergenz: ', i)\n",
    "sh.show_res(X, y, w)"
   ]
  }
 ],
 "metadata": {
  "kernelspec": {
   "display_name": "Python 3",
   "language": "python",
   "name": "python3"
  },
  "language_info": {
   "codemirror_mode": {
    "name": "ipython",
    "version": 3
   },
   "file_extension": ".py",
   "mimetype": "text/x-python",
   "name": "python",
   "nbconvert_exporter": "python",
   "pygments_lexer": "ipython3",
   "version": "3.7.1"
  }
 },
 "nbformat": 4,
 "nbformat_minor": 1
}

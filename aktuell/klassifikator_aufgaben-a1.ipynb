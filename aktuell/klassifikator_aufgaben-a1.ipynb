{
 "cells": [
  {
   "cell_type": "markdown",
   "metadata": {},
   "source": [
    "### Beispiel Perzeptron\n",
    "Für ein linear trennbares Zweiklassenproblem sollen die Parameter des Perzeptronklassifikators gelernt werden. Dabei soll folgendes untersucht werden:\n",
    "- Einfluss der Lernkonstanten $\\alpha$\n",
    "- Einfluss der Reihenfolge der Daten"
   ]
  },
  {
   "cell_type": "code",
   "execution_count": null,
   "metadata": {
    "scrolled": true
   },
   "outputs": [],
   "source": [
    "%pylab inline\n",
    "import matplotlib.pyplot as plt\n",
    "import numpy as np\n",
    "import pandas as pd\n",
    "\n",
    "import functions.sda_help as sh"
   ]
  },
  {
   "cell_type": "markdown",
   "metadata": {},
   "source": [
    "### Dateneingabe 1\n",
    "Daten, Klassenbezeichnungen und Trennflächenparameter eingeben"
   ]
  },
  {
   "cell_type": "code",
   "execution_count": null,
   "metadata": {},
   "outputs": [],
   "source": [
    "k = np.array([[2.0, 1.0, 0.5, 0.0] , [4.0, 0.5, 1.5, 0.5]])\n",
    "kn = [1, 1, -1, -1]\n",
    "w = np.array([0.0, 1.0, -1.0])"
   ]
  },
  {
   "cell_type": "markdown",
   "metadata": {},
   "source": [
    "Dataframe erzeugen"
   ]
  },
  {
   "cell_type": "code",
   "execution_count": null,
   "metadata": {},
   "outputs": [],
   "source": [
    "df = pd.DataFrame(np.transpose(k), columns=['x1', 'x2'])\n",
    "dfk = pd.DataFrame(np.transpose(kn), columns=['Klasse'])\n",
    "df_ges = pd.concat([df, dfk], axis = 1)"
   ]
  },
  {
   "cell_type": "code",
   "execution_count": null,
   "metadata": {},
   "outputs": [],
   "source": [
    "sh.show_res(df_ges, w)"
   ]
  },
  {
   "cell_type": "markdown",
   "metadata": {},
   "source": [
    "### schrittweise Änderung\n",
    "Datenpunkt, Klasse und Lernkonstante für Berechnung der neuen Trennfläche eingeben"
   ]
  },
  {
   "cell_type": "code",
   "execution_count": null,
   "metadata": {},
   "outputs": [],
   "source": [
    "d_korr = [2, 4]\n",
    "cl = 1\n",
    "alpha = 0.1"
   ]
  },
  {
   "cell_type": "code",
   "execution_count": null,
   "metadata": {},
   "outputs": [],
   "source": [
    "d_korr = np.append(1, d_korr)\n",
    "w = w + 2 * alpha * d_korr * cl\n",
    "print(w)"
   ]
  },
  {
   "cell_type": "code",
   "execution_count": null,
   "metadata": {},
   "outputs": [],
   "source": [
    "sh.show_res(df_ges, w)"
   ]
  },
  {
   "cell_type": "markdown",
   "metadata": {},
   "source": [
    "### Iterative Berechnung:\n",
    "\n",
    "Lernkonstante und Anzahl der Iterationen eingeben"
   ]
  },
  {
   "cell_type": "code",
   "execution_count": null,
   "metadata": {},
   "outputs": [],
   "source": [
    "alpha = 0.1\n",
    "n_iter = 20"
   ]
  },
  {
   "cell_type": "code",
   "execution_count": null,
   "metadata": {},
   "outputs": [],
   "source": [
    "for i in range(0, n_iter):\n",
    "    err = 0\n",
    "    for d in range(0, len(df_ges)):\n",
    "        df_h = df_ges.values[d,0:2]\n",
    "        df_h = np.append(1, df_h)\n",
    "        #print('Datenpunkt: ', df_h)\n",
    "        e = np.sign(np.dot(df_h, w)) - df_ges.values[d,2]\n",
    "        if e != 0:\n",
    "            err = err + 1\n",
    "            w = w + 2 * alpha * df_h * df_ges.values[d,2]\n",
    "            #print('Parametervektor: ', w)\n",
    "    if err == 0:\n",
    "        print('Iterationen bis Konvergenz: ', i)\n",
    "        break"
   ]
  },
  {
   "cell_type": "code",
   "execution_count": null,
   "metadata": {},
   "outputs": [],
   "source": [
    "sh.show_res(df_ges, w)"
   ]
  },
  {
   "cell_type": "markdown",
   "metadata": {
    "collapsed": true
   },
   "source": [
    "### Dateneingabe 2"
   ]
  },
  {
   "cell_type": "code",
   "execution_count": null,
   "metadata": {},
   "outputs": [],
   "source": [
    "df_name = 'df_perz.txt'\n",
    "df = pd.read_pickle('data/' + df_name)"
   ]
  },
  {
   "cell_type": "code",
   "execution_count": null,
   "metadata": {},
   "outputs": [],
   "source": [
    "w = [0.0, 1.0, -1.0]\n",
    "sh.show_res1(df, w)"
   ]
  },
  {
   "cell_type": "code",
   "execution_count": null,
   "metadata": {},
   "outputs": [],
   "source": [
    "alpha = 0.1\n",
    "n_iter = 2000"
   ]
  },
  {
   "cell_type": "code",
   "execution_count": null,
   "metadata": {},
   "outputs": [],
   "source": [
    "for i in range(0, n_iter):\n",
    "    err = 0\n",
    "    for d in range(0, len(df)):\n",
    "        df_h = df.values[d,0:2]\n",
    "        df_h = np.append(1, df_h)\n",
    "        #print('Datenpunkt: ', df_h)\n",
    "        e = np.sign(np.dot(df_h, w)) - df.values[d,2]\n",
    "        if e != 0:\n",
    "            err = err + 1\n",
    "            w = w + 2 * alpha * df_h * df.values[d,2]\n",
    "            #print('Parametervektor: ', w)\n",
    "    if err == 0:\n",
    "        print('Iterationen bis Konvergenz: ', i)\n",
    "        break"
   ]
  },
  {
   "cell_type": "code",
   "execution_count": null,
   "metadata": {},
   "outputs": [],
   "source": [
    "sh.show_res1(df, w)"
   ]
  }
 ],
 "metadata": {
  "kernelspec": {
   "display_name": "Python 3",
   "language": "python",
   "name": "python3"
  },
  "language_info": {
   "codemirror_mode": {
    "name": "ipython",
    "version": 3
   },
   "file_extension": ".py",
   "mimetype": "text/x-python",
   "name": "python",
   "nbconvert_exporter": "python",
   "pygments_lexer": "ipython3",
   "version": "3.7.1"
  }
 },
 "nbformat": 4,
 "nbformat_minor": 1
}

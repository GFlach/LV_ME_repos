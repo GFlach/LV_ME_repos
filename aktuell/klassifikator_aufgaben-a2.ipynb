{
 "cells": [
  {
   "cell_type": "markdown",
   "metadata": {},
   "source": [
    "### Beispiel Adaline\n",
    "Lernen der Trennflächenfunktion des Linearklassifikators mit dem Gradientenverfahren"
   ]
  },
  {
   "cell_type": "code",
   "execution_count": 1,
   "metadata": {
    "scrolled": true
   },
   "outputs": [
    {
     "name": "stdout",
     "output_type": "stream",
     "text": [
      "Populating the interactive namespace from numpy and matplotlib\n"
     ]
    }
   ],
   "source": [
    "%pylab inline\n",
    "import matplotlib.pyplot as plt\n",
    "import numpy as np\n",
    "import pandas as pd\n",
    "\n",
    "import functions.sda_help as sh"
   ]
  },
  {
   "cell_type": "markdown",
   "metadata": {},
   "source": [
    "### Dateneingabe \n",
    "Daten, Klassenbezeichnungen und Trennflächenparameter eingeben"
   ]
  },
  {
   "cell_type": "code",
   "execution_count": 5,
   "metadata": {},
   "outputs": [],
   "source": [
    "k = np.array([[1.0, 2.0, 4.0],\n",
    "             [1.0, 1.0, 0.5],\n",
    "             [1.0, 0.5, 1.5],\n",
    "             [1.0, 0.0, 0.5]])\n",
    "kn = np.array([1, 1, -1, -1])\n",
    "#w = np.array([-0.3, 1.0, 0.0])"
   ]
  },
  {
   "cell_type": "markdown",
   "metadata": {},
   "source": [
    "#### Gradientenabstiegsverfahren"
   ]
  },
  {
   "cell_type": "code",
   "execution_count": 6,
   "metadata": {},
   "outputs": [
    {
     "name": "stdout",
     "output_type": "stream",
     "text": [
      "[ 0.03   1.065 -0.88 ]\n",
      "[ 0.048725   1.1144375 -0.7904625]\n",
      "[ 0.05915075  1.15234194 -0.72350337]\n",
      "[ 0.06348047  1.18169777 -0.67328292]\n",
      "[ 0.06334522  1.20471549 -0.63547565]\n",
      "[ 0.05995229  1.22303234 -0.60687759]\n",
      "[ 0.05419511  1.23786099 -0.58511543]\n",
      "[ 0.04673467  1.25009964 -0.56843111]\n",
      "[ 0.03805982  1.26041357 -0.55552225]\n",
      "[ 0.0285319   1.26929557 -0.54542397]\n"
     ]
    },
    {
     "data": {
      "image/png": "[encoded data removed]",
      "text/plain": [
       "<Figure size 432x288 with 1 Axes>"
      ]
     },
     "metadata": {},
     "output_type": "display_data"
    }
   ],
   "source": [
    "w = np.array([0, 1.0, -1])\n",
    "eta = 0.01\n",
    "n_iter = 10\n",
    "cost = np.zeros(n_iter)\n",
    "for i in (np.arange(0, n_iter)):\n",
    "    w = w + eta * np.dot((kn - np.dot(k, w.T)),k)\n",
    "    print(w)\n",
    "    cost[i] = ((kn - np.dot(k[:,1:], w[1:].T))**2).sum() / 2.0\n",
    "plt.plot(np.log10(cost), marker = 'o')\n",
    "plt.show()"
   ]
  },
  {
   "cell_type": "code",
   "execution_count": 7,
   "metadata": {},
   "outputs": [
    {
     "data": {
      "text/plain": [
       "array([ 0.0285319 ,  1.26929557, -0.54542397])"
      ]
     },
     "execution_count": 7,
     "metadata": {},
     "output_type": "execute_result"
    }
   ],
   "source": [
    "w"
   ]
  },
  {
   "cell_type": "code",
   "execution_count": null,
   "metadata": {},
   "outputs": [],
   "source": []
  }
 ],
 "metadata": {
  "kernelspec": {
   "display_name": "Python 3",
   "language": "python",
   "name": "python3"
  },
  "language_info": {
   "codemirror_mode": {
    "name": "ipython",
    "version": 3
   },
   "file_extension": ".py",
   "mimetype": "text/x-python",
   "name": "python",
   "nbconvert_exporter": "python",
   "pygments_lexer": "ipython3",
   "version": "3.6.5"
  }
 },
 "nbformat": 4,
 "nbformat_minor": 1
}

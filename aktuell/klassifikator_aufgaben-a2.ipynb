{
 "cells": [
  {
   "cell_type": "markdown",
   "metadata": {},
   "source": [
    "### Beispiel Adaline\n",
    "Lernen der Trennflächenfunktion des Linearklassifikators mit dem Gradientenverfahren"
   ]
  },
  {
   "cell_type": "code",
   "execution_count": null,
   "metadata": {
    "scrolled": true
   },
   "outputs": [],
   "source": [
    "%pylab inline\n",
    "import matplotlib.pyplot as plt\n",
    "import numpy as np\n",
    "import pandas as pd\n",
    "\n",
    "import functions.sda_help as sh"
   ]
  },
  {
   "cell_type": "markdown",
   "metadata": {},
   "source": [
    "### Dateneingabe \n",
    "Daten, Klassenbezeichnungen und Trennflächenparameter gemäß Aufgabe 3.8 eingeben"
   ]
  },
  {
   "cell_type": "code",
   "execution_count": null,
   "metadata": {},
   "outputs": [],
   "source": [
    "X = pd.read_pickle('data/bsp_a3-8.txt').values[:,0:2]\n",
    "X = np.insert(X, 0, values=1, axis=1)\n",
    "y = pd.read_pickle('data/bsp_a3-8.txt').values[:,2]"
   ]
  },
  {
   "cell_type": "markdown",
   "metadata": {},
   "source": [
    "#### Gradientenabstiegsverfahren"
   ]
  },
  {
   "cell_type": "code",
   "execution_count": null,
   "metadata": {},
   "outputs": [],
   "source": [
    "w = np.array([0, 1.0, -1])\n",
    "eta = 0.05\n",
    "n_iter = 20\n",
    "cost = np.zeros(n_iter)\n",
    "for i in (np.arange(0, n_iter)):\n",
    "    w = w + eta * np.dot((y - np.dot(X, w.T)),X)\n",
    "    #cost[i] = ((y - np.dot(X[:,1:], w[1:].T))**2).sum() / 2.0\n",
    "    cost[i] = ((y - np.dot(X, w.T))**2).sum() / 2.0\n",
    "#plt.plot(np.log10(cost), marker = 'o')\n",
    "plt.plot(cost, marker = 'o')\n",
    "plt.show()"
   ]
  },
  {
   "cell_type": "code",
   "execution_count": null,
   "metadata": {},
   "outputs": [],
   "source": [
    "sh.show_res(X, y, w)"
   ]
  },
  {
   "cell_type": "code",
   "execution_count": null,
   "metadata": {},
   "outputs": [],
   "source": [
    "sh.plot_decision_regions(X[:,1:3], y, w, resolution=0.1)"
   ]
  },
  {
   "cell_type": "markdown",
   "metadata": {},
   "source": [
    "### Beispiel 2\n",
    "linear trennbarar Datensatz mit 20 Mustern pro Klasse"
   ]
  },
  {
   "cell_type": "code",
   "execution_count": null,
   "metadata": {},
   "outputs": [],
   "source": [
    "X = pd.read_pickle('data/df_perz.txt').values[:,0:2]\n",
    "X = np.insert(X, 0, values=1, axis=1)\n",
    "y = pd.read_pickle('data/df_perz.txt').values[:,2]"
   ]
  },
  {
   "cell_type": "code",
   "execution_count": null,
   "metadata": {},
   "outputs": [],
   "source": [
    "w = np.array([0, 0.1, 0.2])\n",
    "eta = 0.0000001\n",
    "n_iter = 20\n",
    "cost = np.zeros(n_iter)\n",
    "for i in (np.arange(0, n_iter)):\n",
    "    w = w + 2 * eta * np.dot((y - np.dot(X, w.T)),X)\n",
    "    #cost[i] = ((y - np.dot(X[:,1:], w[1:].T))**2).sum() / 2.0\n",
    "    cost[i] = ((y - np.dot(X, w.T))**2).sum() / 2.0\n",
    "#plt.plot(np.log10(cost), marker = 'o')\n",
    "plt.plot(cost, marker = 'o')\n",
    "plt.grid()\n",
    "plt.xlabel('Iterationen')\n",
    "plt.ylabel('Kosten')\n",
    "plt.show()"
   ]
  },
  {
   "cell_type": "code",
   "execution_count": null,
   "metadata": {},
   "outputs": [],
   "source": [
    "sh.show_res(X, y, w)"
   ]
  },
  {
   "cell_type": "code",
   "execution_count": null,
   "metadata": {},
   "outputs": [],
   "source": [
    "sh.plot_decision_regions(X[:,1:3], y, w, resolution=0.1)"
   ]
  },
  {
   "cell_type": "markdown",
   "metadata": {},
   "source": [
    "#### Normalisierung der Daten"
   ]
  },
  {
   "cell_type": "code",
   "execution_count": null,
   "metadata": {},
   "outputs": [],
   "source": [
    "X_std = np.copy(X)"
   ]
  },
  {
   "cell_type": "code",
   "execution_count": null,
   "metadata": {},
   "outputs": [],
   "source": [
    "X_std [:,1] = (X_std [:,1] - mean(X_std [:,1]))/std(X_std [:,1])\n",
    "X_std [:,2] = (X_std [:,2] - mean(X_std [:,2]))/std(X_std [:,2])"
   ]
  },
  {
   "cell_type": "code",
   "execution_count": null,
   "metadata": {},
   "outputs": [],
   "source": [
    "w = np.array([0, 0.1, 0.2])\n",
    "eta = 0.001\n",
    "n_iter = 20\n",
    "cost = np.zeros(n_iter)\n",
    "for i in (np.arange(0, n_iter)):\n",
    "    w = w + 2 * eta * np.dot((y - np.dot(X_std, w.T)),X_std)\n",
    "    #cost[i] = ((y - np.dot(X[:,1:], w[1:].T))**2).sum() / 2.0\n",
    "    cost[i] = ((y - np.dot(X_std, w.T))**2).sum() / 2.0\n",
    "#plt.plot(np.log10(cost), marker = 'o')\n",
    "plt.plot(cost, marker = 'o')\n",
    "plt.grid()\n",
    "plt.xlabel('Iterationen')\n",
    "plt.ylabel('Kosten')\n",
    "plt.show()"
   ]
  },
  {
   "cell_type": "code",
   "execution_count": null,
   "metadata": {},
   "outputs": [],
   "source": [
    "sh.plot_decision_regions(X_std[:,1:3], y, w, resolution=0.1)"
   ]
  }
 ],
 "metadata": {
  "kernelspec": {
   "display_name": "Python 3",
   "language": "python",
   "name": "python3"
  },
  "language_info": {
   "codemirror_mode": {
    "name": "ipython",
    "version": 3
   },
   "file_extension": ".py",
   "mimetype": "text/x-python",
   "name": "python",
   "nbconvert_exporter": "python",
   "pygments_lexer": "ipython3",
   "version": "3.7.3"
  }
 },
 "nbformat": 4,
 "nbformat_minor": 1
}

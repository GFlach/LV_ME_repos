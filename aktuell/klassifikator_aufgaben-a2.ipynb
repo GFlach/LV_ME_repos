{
 "cells": [
  {
   "cell_type": "markdown",
   "metadata": {},
   "source": [
    "### Beispiel Adaline\n",
    "Lernen der Trennflächenfunktion des Linearklassifikators mit dem Gradientenverfahren"
   ]
  },
  {
   "cell_type": "code",
   "execution_count": null,
   "metadata": {
    "scrolled": true
   },
   "outputs": [],
   "source": [
    "%pylab inline\n",
    "import matplotlib.pyplot as plt\n",
    "import numpy as np\n",
    "import pandas as pd\n",
    "\n",
    "import functions.sda_help as sh"
   ]
  },
  {
   "cell_type": "markdown",
   "metadata": {},
   "source": [
    "### Dateneingabe \n",
    "Daten, Klassenbezeichnungen und Trennflächenparameter eingeben"
   ]
  },
  {
   "cell_type": "code",
   "execution_count": null,
   "metadata": {},
   "outputs": [],
   "source": [
    "k = np.array([[1.0, 2.0, 4.0],\n",
    "             [1.0, 1.0, 0.5],\n",
    "             [1.0, 0.5, 1.5],\n",
    "             [1.0, 0.0, 0.5]])\n",
    "kn = np.array([1, 1, -1, -1])\n",
    "w = np.array([-0.3, 1.0, 0.0])"
   ]
  },
  {
   "cell_type": "markdown",
   "metadata": {},
   "source": [
    "#### Gradientenabstiegsverfahren"
   ]
  },
  {
   "cell_type": "code",
   "execution_count": null,
   "metadata": {},
   "outputs": [],
   "source": [
    "w = np.array([-0.3, 1.0, 0.0])\n",
    "eta = 0.01\n",
    "n_iter = 10\n",
    "cost = np.zeros(n_iter)\n",
    "for i in (np.arange(0, n_iter)):\n",
    "    w = w + eta * np.dot((kn - np.dot(k, w.T)),k)\n",
    "    cost[i] = ((kn - np.dot(k[:,1:], w[1:].T))**2).sum() / 2.0\n",
    "plt.plot(np.log10(cost), marker = 'o')\n",
    "plt.show()"
   ]
  }
 ],
 "metadata": {
  "kernelspec": {
   "display_name": "Python 3",
   "language": "python",
   "name": "python3"
  },
  "language_info": {
   "codemirror_mode": {
    "name": "ipython",
    "version": 3
   },
   "file_extension": ".py",
   "mimetype": "text/x-python",
   "name": "python",
   "nbconvert_exporter": "python",
   "pygments_lexer": "ipython3",
   "version": "3.7.1"
  }
 },
 "nbformat": 4,
 "nbformat_minor": 1
}

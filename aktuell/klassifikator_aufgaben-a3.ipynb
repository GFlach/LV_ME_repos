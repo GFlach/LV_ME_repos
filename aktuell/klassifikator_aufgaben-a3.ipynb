{
 "cells": [
  {
   "cell_type": "code",
   "execution_count": null,
   "metadata": {
    "scrolled": true
   },
   "outputs": [],
   "source": [
    "%pylab inline\n",
    "import matplotlib.pyplot as plt\n",
    "import numpy as np\n",
    "import pandas as pd\n",
    "\n",
    "import functions.sda_help as sh"
   ]
  },
  {
   "cell_type": "markdown",
   "metadata": {},
   "source": [
    "### Beispiel Adaline\n",
    "Lernen der Trennflächenfunktion des Linearklassifikators mit dem Gradientenverfahren"
   ]
  },
  {
   "cell_type": "markdown",
   "metadata": {},
   "source": [
    "### Dateneingabe \n",
    "Die Daten werden dem Dataframe `df0.txt` entnommen. (1000 Muster der Klassen `eins` bis `sieben`)"
   ]
  },
  {
   "cell_type": "code",
   "execution_count": null,
   "metadata": {},
   "outputs": [],
   "source": [
    "df_name = 'df0.txt'\n",
    "df = pd.read_pickle('data/' + df_name)\n",
    "kn = np.unique(df.values[:,2])\n",
    "print('Klassen: ', kn)"
   ]
  },
  {
   "cell_type": "code",
   "execution_count": null,
   "metadata": {},
   "outputs": [],
   "source": [
    "# Auswahl der Klassen:\n",
    "# Auswahlklasse\n",
    "ka = kn[3]\n",
    "# Restklassen\n",
    "kr = kn[4],\n",
    "# Datenanzahl:\n",
    "anz = 200"
   ]
  },
  {
   "cell_type": "code",
   "execution_count": null,
   "metadata": {},
   "outputs": [],
   "source": [
    "X, y = sh.generate_train(df, anz, ka, kr)"
   ]
  },
  {
   "cell_type": "code",
   "execution_count": null,
   "metadata": {},
   "outputs": [],
   "source": [
    "w = np.array([-0.30747907,  0.82647344, -1.31777939])\n",
    "sh.show_res(X, y, w)"
   ]
  },
  {
   "cell_type": "markdown",
   "metadata": {},
   "source": [
    "#### $\\vec{w}$ mit Gradientenabstiegsverfahren bestimmen"
   ]
  },
  {
   "cell_type": "code",
   "execution_count": null,
   "metadata": {},
   "outputs": [],
   "source": [
    "w0 = np.array([-60, 0.01, 1])\n",
    "alpha = 0.0000001\n",
    "n_iter = 200\n",
    "w = sh.calculate_w(X, y, w0, alpha, n_iter)"
   ]
  },
  {
   "cell_type": "code",
   "execution_count": null,
   "metadata": {},
   "outputs": [],
   "source": [
    "sh.show_res(X, y, w)"
   ]
  },
  {
   "cell_type": "code",
   "execution_count": null,
   "metadata": {},
   "outputs": [],
   "source": [
    "sh.plot_decision_regions(X[:,1:3], y, w, resolution=0.1)"
   ]
  },
  {
   "cell_type": "markdown",
   "metadata": {},
   "source": [
    "#### Normalisierung der Daten"
   ]
  },
  {
   "cell_type": "code",
   "execution_count": null,
   "metadata": {},
   "outputs": [],
   "source": [
    "X_std = np.copy(X)\n",
    "X_std [:,1] = (X_std [:,1] - mean(X_std [:,1]))/std(X_std [:,1])\n",
    "X_std [:,2] = (X_std [:,2] - mean(X_std [:,2]))/std(X_std [:,2])"
   ]
  },
  {
   "cell_type": "code",
   "execution_count": null,
   "metadata": {},
   "outputs": [],
   "source": [
    "w0 = np.array([-0.05801925,  0.48095461, -1.46163565])\n",
    "alpha = 0.0001\n",
    "n_iter = 20\n",
    "w = sh.calculate_w(X_std, y, w0, alpha, n_iter)"
   ]
  },
  {
   "cell_type": "code",
   "execution_count": null,
   "metadata": {},
   "outputs": [],
   "source": [
    "sh.show_res(X_std, y, w)"
   ]
  },
  {
   "cell_type": "code",
   "execution_count": null,
   "metadata": {},
   "outputs": [],
   "source": [
    "sh.plot_decision_regions(X_std[:,1:3], y, w, resolution=0.1)"
   ]
  }
 ],
 "metadata": {
  "kernelspec": {
   "display_name": "Python 3",
   "language": "python",
   "name": "python3"
  },
  "language_info": {
   "codemirror_mode": {
    "name": "ipython",
    "version": 3
   },
   "file_extension": ".py",
   "mimetype": "text/x-python",
   "name": "python",
   "nbconvert_exporter": "python",
   "pygments_lexer": "ipython3",
   "version": "3.7.3"
  }
 },
 "nbformat": 4,
 "nbformat_minor": 1
}

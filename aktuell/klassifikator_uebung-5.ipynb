{
 "cells": [
  {
   "cell_type": "code",
   "execution_count": null,
   "metadata": {
    "scrolled": true
   },
   "outputs": [],
   "source": [
    "%pylab inline\n",
    "import matplotlib.pyplot as plt\n",
    "import numpy as np\n",
    "import pandas as pd\n",
    "\n",
    "import functions.sda_help as sh"
   ]
  },
  {
   "cell_type": "markdown",
   "metadata": {},
   "source": [
    "### Beispiel Adaline\n",
    "Lernen der Trennflächenfunktion des Linearklassifikators mit dem Gradientenverfahren"
   ]
  },
  {
   "cell_type": "markdown",
   "metadata": {},
   "source": [
    "### Dateneingabe \n",
    "Aus den in `data/sprecher.csv` enthaltenen Daten wird zunächst ein Dataframe erzeugt. Aus diesem werden die die Daten in der erforderlichen Struktur erzeugt."
   ]
  },
  {
   "cell_type": "code",
   "execution_count": null,
   "metadata": {},
   "outputs": [],
   "source": [
    "speech_df = pd.read_csv('data/sprecher.csv', sep=';')"
   ]
  },
  {
   "cell_type": "code",
   "execution_count": null,
   "metadata": {},
   "outputs": [],
   "source": [
    "data = speech_df.values[:,1:3].T\n",
    "dname = 'data/a.npy'\n",
    "np.save(dname, data)\n",
    "data = speech_df.values[:,3:5].T\n",
    "dname = 'data/e.npy'\n",
    "np.save(dname, data)\n",
    "data = speech_df.values[:,5:7].T\n",
    "dname = 'data/i.npy'\n",
    "np.save(dname, data)\n",
    "data = speech_df.values[:,7:9].T\n",
    "dname = 'data/o.npy'\n",
    "np.save(dname, data)\n",
    "data = speech_df.values[:,9:11].T\n",
    "dname = 'data/u.npy'\n",
    "np.save(dname, data)\n",
    "data_files = ['a', 'e', 'i', 'o', 'u']"
   ]
  },
  {
   "cell_type": "code",
   "execution_count": null,
   "metadata": {},
   "outputs": [],
   "source": [
    "class_labels = ['a', 'e', 'i', 'o', 'u']\n",
    "df_name = 'df1.txt'\n",
    "df_ges = sh.build_df(data_files, class_labels)\n",
    "df_ges.to_pickle('data/' + df_name)"
   ]
  },
  {
   "cell_type": "code",
   "execution_count": null,
   "metadata": {},
   "outputs": [],
   "source": [
    "df_name = 'df1.txt'\n",
    "df = pd.read_pickle('data/' + df_name)\n",
    "kn = np.unique(df.values[:,2])\n",
    "print('Klassen: ', kn)"
   ]
  },
  {
   "cell_type": "code",
   "execution_count": null,
   "metadata": {},
   "outputs": [],
   "source": [
    "# Auswahl der Klassen:\n",
    "# Auswahlklasse\n",
    "ka = kn[0]\n",
    "# Restklassen\n",
    "kr = kn[1], kn[2],\n",
    "# Datenanzahl:\n",
    "anz = 31"
   ]
  },
  {
   "cell_type": "code",
   "execution_count": null,
   "metadata": {},
   "outputs": [],
   "source": [
    "X, y = sh.generate_train(df, anz, ka, kr)"
   ]
  },
  {
   "cell_type": "code",
   "execution_count": null,
   "metadata": {},
   "outputs": [],
   "source": [
    "w = np.array([1500, 0.1, -1.0])\n",
    "sh.show_res(X, y, w)"
   ]
  },
  {
   "cell_type": "markdown",
   "metadata": {},
   "source": [
    "#### $\\vec{w}$ mit Gradientenabstiegsverfahren bestimmen"
   ]
  },
  {
   "cell_type": "code",
   "execution_count": null,
   "metadata": {},
   "outputs": [],
   "source": [
    "w0 = np.array([1, 0.1, -1.0])\n",
    "alpha = 0.00000001\n",
    "n_iter = 200\n",
    "w = sh.calculate_w(X, y, w0, alpha, n_iter)"
   ]
  },
  {
   "cell_type": "code",
   "execution_count": null,
   "metadata": {},
   "outputs": [],
   "source": [
    "sh.show_res(X, y, w)"
   ]
  },
  {
   "cell_type": "code",
   "execution_count": null,
   "metadata": {},
   "outputs": [],
   "source": [
    "sh.plot_decision_regions(X[:,1:3], y, w, resolution=1)"
   ]
  },
  {
   "cell_type": "markdown",
   "metadata": {},
   "source": [
    "#### Normalisierung der Daten"
   ]
  },
  {
   "cell_type": "code",
   "execution_count": null,
   "metadata": {},
   "outputs": [],
   "source": [
    "X_std = np.copy(X)\n",
    "X_std [:,1] = (X_std [:,1] - mean(X_std [:,1]))/std(X_std [:,1])\n",
    "X_std [:,2] = (X_std [:,2] - mean(X_std [:,2]))/std(X_std [:,2])"
   ]
  },
  {
   "cell_type": "code",
   "execution_count": null,
   "metadata": {},
   "outputs": [],
   "source": [
    "w0 = np.array([1, 0.1, -1.0])\n",
    "alpha = 0.0001\n",
    "n_iter = 100\n",
    "w = sh.calculate_w(X_std, y, w0, alpha, n_iter)"
   ]
  },
  {
   "cell_type": "code",
   "execution_count": null,
   "metadata": {},
   "outputs": [],
   "source": [
    "sh.show_res(X_std, y, w)"
   ]
  },
  {
   "cell_type": "code",
   "execution_count": null,
   "metadata": {},
   "outputs": [],
   "source": [
    "sh.plot_decision_regions(X_std[:,1:3], y, w, resolution=0.1)"
   ]
  }
 ],
 "metadata": {
  "kernelspec": {
   "display_name": "Python 3",
   "language": "python",
   "name": "python3"
  },
  "language_info": {
   "codemirror_mode": {
    "name": "ipython",
    "version": 3
   },
   "file_extension": ".py",
   "mimetype": "text/x-python",
   "name": "python",
   "nbconvert_exporter": "python",
   "pygments_lexer": "ipython3",
   "version": "3.7.3"
  }
 },
 "nbformat": 4,
 "nbformat_minor": 1
}

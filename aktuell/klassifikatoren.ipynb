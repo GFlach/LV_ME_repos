{
 "cells": [
  {
   "cell_type": "markdown",
   "metadata": {
    "collapsed": true
   },
   "source": [
    "[Inhaltsverzeichnis](table_of_contents.ipynb)"
   ]
  },
  {
   "cell_type": "markdown",
   "metadata": {},
   "source": [
    "# 5 Klassifikation\n",
    "## 5.1 Vorbetrachtungen\n",
    "## 5.2 Norm und Abstand\n",
    "## 5.3 Separierbarkeit\n",
    "## 5.4 Klassen von Klassifikatoren\n",
    "### 5.4.1 Statistischer Klassifikator\n",
    "<img src='images/stat_klass-1.png'>\n",
    "<img src='images/stat_klass-2.png'>"
   ]
  },
  {
   "cell_type": "markdown",
   "metadata": {},
   "source": [
    "### 5.4.2 Diskriminativer Klassifikator\n",
    "<img src='images/5-4-2.jpg'>"
   ]
  },
  {
   "cell_type": "markdown",
   "metadata": {
    "collapsed": true
   },
   "source": [
    "### 5.4.3 Partitionierender Klassifikator\n",
    "<img src='images/5-4-3.jpg'>"
   ]
  },
  {
   "cell_type": "markdown",
   "metadata": {},
   "source": [
    "### 5.4.4 Abstandsmessender Klassifikator\n",
    "<img src='images/5-4-4.jpg'>"
   ]
  },
  {
   "cell_type": "markdown",
   "metadata": {},
   "source": [
    "## 5.5 Grundstruktur numerischer Klassifikatoren\n",
    "### 5.5.1 Beispiel Abstandsklassifikator\n",
    "### 5.5.2 Zweiklassenproblem\n",
    "[Beispiel](test_perzeptron.ipynb)\n",
    "\n",
    "### 5.5.3 Lernverfahren\n",
    "<img src='images/lernen1.jpg' width='400'>\n",
    "<img src='images/lernen2.jpg' width='400'>\n",
    "<img src='images/lernen3.jpg' width='400'>"
   ]
  },
  {
   "cell_type": "markdown",
   "metadata": {
    "collapsed": true
   },
   "source": [
    "## 5.6 Probabilistische Klassifikation\n",
    "### 5.6.1 Modellierung der Wahrscheinlichkeitsdichten\n",
    "### 5.6.2 Optimierung des Klassifikators"
   ]
  }
 ],
 "metadata": {
  "anaconda-cloud": {},
  "kernelspec": {
   "display_name": "Python 3",
   "language": "python",
   "name": "python3"
  },
  "language_info": {
   "codemirror_mode": {
    "name": "ipython",
    "version": 3
   },
   "file_extension": ".py",
   "mimetype": "text/x-python",
   "name": "python",
   "nbconvert_exporter": "python",
   "pygments_lexer": "ipython3",
   "version": "3.6.5"
  }
 },
 "nbformat": 4,
 "nbformat_minor": 1
}

{
 "cells": [
  {
   "cell_type": "markdown",
   "metadata": {
    "collapsed": true
   },
   "source": [
    "[Inhaltsverzeichnis](table_of_contents.ipynb)"
   ]
  },
  {
   "cell_type": "code",
   "execution_count": null,
   "metadata": {},
   "outputs": [],
   "source": [
    "import numpy as np\n",
    "import matplotlib.pyplot as plt\n",
    "%pylab inline"
   ]
  },
  {
   "cell_type": "markdown",
   "metadata": {},
   "source": [
    "# 4 Datenkomprimierung durch Dimensionsreduktion\n",
    "## 4.1 Merkmalsselektion\n",
    "## 4.2 Merkmalbearbeitung - Hauptachsentransformation\n",
    "Vorgehen:\n",
    "- Mittelwertvektor\n",
    "- Kovarianzmatrix\n",
    "- Eigenwerte und Eigenvektoren der Kovarianzmatrix\n",
    "\n",
    "Eigenwertproblem:\n",
    "\n",
    "$\n",
    "\\textbf{S} \\cdot \\vec{x} = \\lambda \\cdot \\vec{x}\n",
    "$\n",
    "\n",
    "mit:\n",
    "- $\\vec{x} \\ldots $ Eigenvektoren\n",
    "- $\\lambda \\ldots $ Eigenwerte\n",
    "\n",
    "$\n",
    "\\left(\\textbf{S} - \\lambda \\textbf{E}\\right) \\vec{x} = 0\n",
    "$\n",
    "\n",
    "$\n",
    "det\\left(\\textbf{S} - \\lambda \\textbf{E}\\right) = 0\n",
    "$\n",
    "\n",
    "- Normierung der Eigenvektoren\n",
    "- Transformationsmatrix (Eigenvektoren bilden die Spalten)\n",
    "\n",
    "[Beispiele](example_pca.ipynb)"
   ]
  },
  {
   "cell_type": "markdown",
   "metadata": {
    "collapsed": true
   },
   "source": [
    "## 4.3 Merkmalgenerierung als Zufallsprozess\n",
    "### 4.3.1 Mittelwert\n",
    "Beispiel\n",
    "\n",
    "Die Datenmatrix enthält pro Zeile eine Realisierung und pro Spalte ein Merkmal."
   ]
  },
  {
   "cell_type": "code",
   "execution_count": null,
   "metadata": {
    "collapsed": true
   },
   "outputs": [],
   "source": [
    "sp = np.array([1,2,3,2,7,2,1,8,5]).reshape(3,3)    \n",
    "print('Datenmatrix:\\n',sp)\n",
    "mean_vec = np.mean(sp, axis=0)\n",
    "print('Mittelwertvektor:\\n',mean_vec.T)"
   ]
  },
  {
   "cell_type": "markdown",
   "metadata": {},
   "source": [
    "### 4.3.2 Varianz"
   ]
  },
  {
   "cell_type": "code",
   "execution_count": null,
   "metadata": {},
   "outputs": [],
   "source": [
    "print('Varianzvektor:')\n",
    "print(np.cov(sp[:,0], ddof=0), np.cov(sp[:,1], ddof=0), np.cov(sp[:,2], ddof=0))"
   ]
  },
  {
   "cell_type": "markdown",
   "metadata": {
    "collapsed": true
   },
   "source": [
    "### 4.3.3 Kovarianz"
   ]
  },
  {
   "cell_type": "code",
   "execution_count": null,
   "metadata": {
    "collapsed": true
   },
   "outputs": [],
   "source": [
    "cov_mat = np.cov(sp.T, ddof=0)\n",
    "print('Kovarianzmatrix:\\n',cov_mat)"
   ]
  }
 ],
 "metadata": {
  "anaconda-cloud": {},
  "kernelspec": {
   "display_name": "Python 3",
   "language": "python",
   "name": "python3"
  },
  "language_info": {
   "codemirror_mode": {
    "name": "ipython",
    "version": 3
   },
   "file_extension": ".py",
   "mimetype": "text/x-python",
   "name": "python",
   "nbconvert_exporter": "python",
   "pygments_lexer": "ipython3",
   "version": "3.7.3"
  }
 },
 "nbformat": 4,
 "nbformat_minor": 1
}

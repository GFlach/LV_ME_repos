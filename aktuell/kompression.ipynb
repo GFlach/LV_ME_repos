{
 "cells": [
  {
   "cell_type": "markdown",
   "metadata": {
    "collapsed": true
   },
   "source": [
    "[Inhaltsverzeichnis](table_of_contents.ipynb)"
   ]
  },
  {
   "cell_type": "code",
   "execution_count": 1,
   "metadata": {},
   "outputs": [
    {
     "name": "stdout",
     "output_type": "stream",
     "text": [
      "Populating the interactive namespace from numpy and matplotlib\n"
     ]
    }
   ],
   "source": [
    "import numpy as np\n",
    "import matplotlib.pyplot as plt\n",
    "%pylab inline"
   ]
  },
  {
   "cell_type": "markdown",
   "metadata": {},
   "source": [
    "# 4 Datenkomprimierung durch Dimensionsreduktion\n",
    "## 4.1 Merkmalsselektion\n",
    "## 4.2 Merkmalbearbeitung - Hauptachsentransformation\n",
    "Vorgehen:\n",
    "- Mittelwertvektors\n",
    "- Kovarianzmatrix\n",
    "- Eigenwerte und Eigenvektoren der Kovarianzmatrix\n",
    "\n",
    "Eigenwertproblem:\n",
    "\n",
    "$\n",
    "\\textbf{S} \\cdot \\vec{x} = \\lambda \\cdot \\vec{x}\n",
    "$\n",
    "\n",
    "mit:\n",
    "- $\\vec{x} \\ldots $ Eigenvektoren\n",
    "- $\\lambda \\ldots $ Eigenwerte\n",
    "\n",
    "$\n",
    "\\left(\\textbf{S} - \\lambda \\textbf{E}\\right) \\vec{x} = 0\n",
    "$\n",
    "\n",
    "$\n",
    "det\\left(\\textbf{S} - \\lambda \\textbf{E}\\right) = 0\n",
    "$\n",
    "\n",
    "- Normierung der Eigenvektoren\n",
    "- Transformationsmatrix (Eigenvektoren bilden die Spalten)\n",
    "\n",
    "[Beispiel 1 + 2](example_pca.ipynb)\n",
    "\n",
    "[Beispiel 3](pca_soccer.ipynb)"
   ]
  },
  {
   "cell_type": "markdown",
   "metadata": {
    "collapsed": true
   },
   "source": [
    "## 4.3 Merkmalgenerierung als Zufallsprozess\n",
    "### 4.3.1 Mittelwert\n",
    "Beispiel\n",
    "\n",
    "Die Datenmatrix enthält pro Zeile eine Realisierung und pro Spalte ein Merkmal."
   ]
  },
  {
   "cell_type": "code",
   "execution_count": 32,
   "metadata": {},
   "outputs": [
    {
     "name": "stdout",
     "output_type": "stream",
     "text": [
      "Datenmatrix:\n",
      " [[1 2 3]\n",
      " [2 7 2]\n",
      " [1 8 5]]\n",
      "Mittelwertvektor:\n",
      " [ 1.33333333  5.66666667  3.33333333]\n"
     ]
    }
   ],
   "source": [
    "sp = np.array([1,2,3,2,7,2,1,8,5]).reshape(3,3)    \n",
    "print('Datenmatrix:\\n',sp)\n",
    "mean_vec = np.mean(sp, axis=0)\n",
    "print('Mittelwertvektor:\\n',mean_vec.T)"
   ]
  },
  {
   "cell_type": "markdown",
   "metadata": {
    "collapsed": true
   },
   "source": [
    "### 4.3.2 Varianz\n",
    "### 4.3.3 Kovarianz\n",
    "Beispiel"
   ]
  },
  {
   "cell_type": "code",
   "execution_count": 31,
   "metadata": {},
   "outputs": [
    {
     "name": "stdout",
     "output_type": "stream",
     "text": [
      "Kovarianzmatrix:\n",
      " [[ 0.66666667  0.          1.33333333]\n",
      " [ 0.          5.55555556  5.55555556]\n",
      " [ 1.33333333  5.55555556  8.22222222]]\n"
     ]
    }
   ],
   "source": [
    "cov_mat = np.cov(sp, ddof=0)\n",
    "print('Kovarianzmatrix:\\n',cov_mat)"
   ]
  }
 ],
 "metadata": {
  "anaconda-cloud": {},
  "kernelspec": {
   "display_name": "Python 3",
   "language": "python",
   "name": "python3"
  },
  "language_info": {
   "codemirror_mode": {
    "name": "ipython",
    "version": 3
   },
   "file_extension": ".py",
   "mimetype": "text/x-python",
   "name": "python",
   "nbconvert_exporter": "python",
   "pygments_lexer": "ipython3",
   "version": "3.6.5"
  }
 },
 "nbformat": 4,
 "nbformat_minor": 1
}

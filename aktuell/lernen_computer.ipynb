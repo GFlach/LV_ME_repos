{
 "cells": [
  {
   "cell_type": "markdown",
   "metadata": {
    "collapsed": true
   },
   "source": [
    "[Inhaltsverzeichnis](table_of_contents.ipynb)"
   ]
  },
  {
   "cell_type": "markdown",
   "metadata": {},
   "source": [
    "# 2 Lernen für Computer\n",
    "## 2.1 Arten des Lernens\n",
    "- Klassifikation\n",
    "<img src=\"images/01_03.png\" width=\"300\">\n",
    "Quelle:Sebastian Raschka, Machine Learning mit Python, mitp 2017\n",
    "\n",
    "- Regression\n",
    "<img src=\"images/01_04.png\" width=\"300\">\n",
    "Quelle:Sebastian Raschka, Machine Learning mit Python, mitp 2017\n",
    "\n",
    "- Clusterung\n",
    "<img src=\"images/01_06.png\" width=\"300\">\n",
    "Quelle:Sebastian Raschka, Machine Learning mit Python, mitp 2017\n",
    "\n",
    "- Dimensionsreduktion\n",
    "<img src=\"images/2-1-dimred.png\" width=\"500\">\n",
    "Quelle:Sebastian Raschka, Machine Learning mit Python, mitp 2017"
   ]
  },
  {
   "cell_type": "markdown",
   "metadata": {},
   "source": [
    "## 2.2 Terminologie und Notation"
   ]
  },
  {
   "cell_type": "markdown",
   "metadata": {
    "collapsed": true
   },
   "source": [
    "## 2.3 Aufbau eines Mustererkennungssystems"
   ]
  },
  {
   "cell_type": "code",
   "execution_count": null,
   "metadata": {
    "collapsed": true
   },
   "outputs": [],
   "source": []
  }
 ],
 "metadata": {
  "anaconda-cloud": {},
  "kernelspec": {
   "display_name": "Python 3",
   "language": "python",
   "name": "python3"
  },
  "language_info": {
   "codemirror_mode": {
    "name": "ipython",
    "version": 3
   },
   "file_extension": ".py",
   "mimetype": "text/x-python",
   "name": "python",
   "nbconvert_exporter": "python",
   "pygments_lexer": "ipython3",
   "version": "3.6.1"
  }
 },
 "nbformat": 4,
 "nbformat_minor": 1
}

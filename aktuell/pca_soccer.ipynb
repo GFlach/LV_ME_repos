{
 "cells": [
  {
   "cell_type": "markdown",
   "metadata": {},
   "source": [
    "[Table of Contents](table_of_contents.ipynb)"
   ]
  },
  {
   "cell_type": "code",
   "execution_count": null,
   "metadata": {},
   "outputs": [],
   "source": [
    "import numpy as np\n",
    "import csv\n",
    "%pylab inline"
   ]
  },
  {
   "cell_type": "markdown",
   "metadata": {},
   "source": [
    "### Anwendung der Hauptkomponentenanalyse auf Bilder"
   ]
  },
  {
   "cell_type": "markdown",
   "metadata": {},
   "source": [
    "Einlesen der Bilder als csv-Files. Die Dimension der Bilder muss bekannt sein.\n",
    "- `soccerBall.csv`:\n",
    "    64 Bilder von Fußbällen, Bildgröße(32x32 Pixel), eine Zeile in dem Eingabefile"
   ]
  },
  {
   "cell_type": "code",
   "execution_count": null,
   "metadata": {},
   "outputs": [],
   "source": [
    "with open('data/soccerBall.csv') as f:\n",
    "    reader = csv.reader(f)\n",
    "    for row in reader:\n",
    "        row = [int(i) for i in row]\n",
    "        row = np.array(row)\n",
    "        bilder = row.reshape((64,1024))"
   ]
  },
  {
   "cell_type": "markdown",
   "metadata": {},
   "source": [
    "Darstellung der Originalbilder:\n",
    "- `zeilen`: Zeilen der Ausgabe\n",
    "- `spalten`: Spalten der Ausgabe"
   ]
  },
  {
   "cell_type": "code",
   "execution_count": null,
   "metadata": {},
   "outputs": [],
   "source": [
    "zeilen = 8\n",
    "spalten = 8\n",
    "bildzeilen = 32\n",
    "bildspalten = 32"
   ]
  },
  {
   "cell_type": "code",
   "execution_count": null,
   "metadata": {},
   "outputs": [],
   "source": [
    "plt.figure(figsize=(12,10))\n",
    "for i in range(bilder.shape[0]):\n",
    "    plt.subplot(zeilen,spalten,i+1)\n",
    "    #b1 = np.flipud(np.transpose(num[i,:].reshape((5,3))))\n",
    "    b1 = np.flipud(np.transpose(bilder[i].reshape((bildzeilen,bildspalten))))\n",
    "    plt.imshow(b1, origin='lower', cmap=plt.cm.gray, interpolation='nearest')\n",
    "    plt.xticks([])\n",
    "    plt.yticks([])"
   ]
  },
  {
   "cell_type": "code",
   "execution_count": null,
   "metadata": {},
   "outputs": [],
   "source": [
    "mean_vector = np.mean(bilder,axis=0)\n",
    "#print('Mean Vector:\\n', mean_vector)"
   ]
  },
  {
   "cell_type": "code",
   "execution_count": null,
   "metadata": {},
   "outputs": [],
   "source": [
    "bilder_mf = bilder - np.hstack(mean_vector)\n",
    "#print('Mittelwertfreie Daten:\\n', bilder_mf)"
   ]
  },
  {
   "cell_type": "code",
   "execution_count": null,
   "metadata": {},
   "outputs": [],
   "source": [
    "bilder_cov = 1/(bilder.shape[0])*np.dot(np.transpose(bilder_mf), bilder_mf)\n",
    "#print('Kovarianzmatrix:\\n', bilder_cov)"
   ]
  },
  {
   "cell_type": "code",
   "execution_count": null,
   "metadata": {},
   "outputs": [],
   "source": [
    "eig_val_cov, eig_vec_cov = np.linalg.eigh(bilder_cov)\n",
    "for i in range(len(eig_val_cov)):\n",
    "    eigvec_cov = eig_vec_cov[:,i].reshape(1,bilder.shape[1]).T\n",
    "\n",
    "    #print('Eigenvector {}: \\n{}'.format(i+1, eigvec_cov))\n",
    "    #print('Eigenvalue {} from covariance matrix: {}'.format(i+1, eig_val_cov[i]))\n",
    "    #print(40 * '-')"
   ]
  },
  {
   "cell_type": "code",
   "execution_count": null,
   "metadata": {},
   "outputs": [],
   "source": [
    "eig_pairs = [(np.abs(eig_val_cov[i]), eig_vec_cov[:,i]) for i in range(len(eig_val_cov))]\n",
    "\n",
    "eig_pairs.sort()\n",
    "eig_pairs.reverse()\n",
    "\n",
    "#for i in eig_pairs:\n",
    "    #print(i[0])"
   ]
  },
  {
   "cell_type": "code",
   "execution_count": null,
   "metadata": {},
   "outputs": [],
   "source": [
    "plt.imshow(np.flipud(np.transpose(mean_vector[::-1].reshape((bildzeilen, bildspalten)))).T, origin='lower',\n",
    "                                  cmap=plt.cm.gray_r, interpolation='nearest')\n",
    "plt.xticks([])\n",
    "plt.yticks([])\n",
    "plt.title('Mittelwertbild')"
   ]
  },
  {
   "cell_type": "code",
   "execution_count": null,
   "metadata": {},
   "outputs": [],
   "source": [
    "plt.figure(figsize=(12,10))\n",
    "for i in range(len(eig_val_cov)):\n",
    "    eig_vec = eig_pairs[i][1]\n",
    "    plt.subplot(32,32,i+1)\n",
    "    b1 = np.flipud(np.transpose(eig_vec[::-1].reshape((bildzeilen,bildspalten))))\n",
    "    plt.imshow(b1.T, origin='lower', cmap=plt.cm.gray, interpolation='nearest')\n",
    "    plt.xticks([])\n",
    "    plt.yticks([])"
   ]
  },
  {
   "cell_type": "markdown",
   "metadata": {},
   "source": [
    "Sortierte Eigenvektoren werden in Eigenvektormatrix zusammengefasst."
   ]
  },
  {
   "cell_type": "code",
   "execution_count": null,
   "metadata": {},
   "outputs": [],
   "source": [
    "eig_vec_mat = []\n",
    "for i in range(len(eig_val_cov)):\n",
    "    eig_vec_mat.append(eig_pairs[i][1])"
   ]
  },
  {
   "cell_type": "markdown",
   "metadata": {},
   "source": [
    "Erste n Eigenvektoren werden ausgewählt."
   ]
  },
  {
   "cell_type": "code",
   "execution_count": null,
   "metadata": {},
   "outputs": [],
   "source": [
    "n = 75\n",
    "eig_vec_mat_red = np.array(eig_vec_mat[0:n+1])"
   ]
  },
  {
   "cell_type": "code",
   "execution_count": null,
   "metadata": {},
   "outputs": [],
   "source": [
    "x = np.dot(np.dot(bilder_mf,np.transpose(eig_vec_mat_red)),eig_vec_mat_red)"
   ]
  },
  {
   "cell_type": "code",
   "execution_count": null,
   "metadata": {},
   "outputs": [],
   "source": [
    "res = x + np.hstack(mean_vector)"
   ]
  },
  {
   "cell_type": "code",
   "execution_count": null,
   "metadata": {},
   "outputs": [],
   "source": [
    "plt.figure(figsize=(12,10))\n",
    "for i in range(res.shape[0]):\n",
    "    plt.subplot(zeilen,spalten,i+1)\n",
    "    #b1 = np.flipud(np.transpose(num[i,:].reshape((5,3))))\n",
    "    b1 = np.flipud(np.transpose(res[i].reshape((bildzeilen,bildspalten))))\n",
    "    plt.imshow(b1, origin='lower', cmap=plt.cm.gray, interpolation='nearest')\n",
    "    plt.xticks([])\n",
    "    plt.yticks([])"
   ]
  },
  {
   "cell_type": "code",
   "execution_count": null,
   "metadata": {},
   "outputs": [],
   "source": []
  }
 ],
 "metadata": {
  "kernelspec": {
   "display_name": "Python 3",
   "language": "python",
   "name": "python3"
  },
  "language_info": {
   "codemirror_mode": {
    "name": "ipython",
    "version": 3
   },
   "file_extension": ".py",
   "mimetype": "text/x-python",
   "name": "python",
   "nbconvert_exporter": "python",
   "pygments_lexer": "ipython3",
   "version": "3.6.5"
  }
 },
 "nbformat": 4,
 "nbformat_minor": 1
}

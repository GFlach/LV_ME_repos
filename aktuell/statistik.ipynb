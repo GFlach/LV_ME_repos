{
 "cells": [
  {
   "cell_type": "markdown",
   "metadata": {},
   "source": [
    "[Table of Contents](table_of_contents.ipynb)"
   ]
  },
  {
   "cell_type": "markdown",
   "metadata": {},
   "source": [
    "### 3 Statistik\n",
    "#### 3.1 Begriffe\n",
    "#### 3.2 Verbundwahrscheinlichkeit\n",
    "#### 3.3 Bedingte Wahrscheinlichkeit\n",
    "#### 3.4 Satz von Bayes\n",
    "#### 3.5 Zufallsvariable\n",
    "#### 3.6 Funktion einer Zufallsvariable\n",
    "#### 3.7 Dichtefunktion\n",
    "#### 3.8 Verteilungsfunktion\n",
    "#### 3.9 Erwartungswert\n",
    "#### 3.10 Varianz und Kovarianz\n",
    "#### 3.11 Schätzfunktionen"
   ]
  },
  {
   "cell_type": "markdown",
   "metadata": {},
   "source": [
    "[Aufgaben Statistik](statistik_aufgaben.ipynb)"
   ]
  }
 ],
 "metadata": {
  "kernelspec": {
   "display_name": "Python 3",
   "language": "python",
   "name": "python3"
  },
  "language_info": {
   "codemirror_mode": {
    "name": "ipython",
    "version": 3
   },
   "file_extension": ".py",
   "mimetype": "text/x-python",
   "name": "python",
   "nbconvert_exporter": "python",
   "pygments_lexer": "ipython3",
   "version": "3.6.3"
  }
 },
 "nbformat": 4,
 "nbformat_minor": 1
}

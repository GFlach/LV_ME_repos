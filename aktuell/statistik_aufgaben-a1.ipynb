{
 "cells": [
  {
   "cell_type": "markdown",
   "metadata": {},
   "source": [
    "[Inhaltsverzeichnis](table_of_contents.ipynb)"
   ]
  },
  {
   "cell_type": "code",
   "execution_count": 1,
   "metadata": {},
   "outputs": [
    {
     "name": "stdout",
     "output_type": "stream",
     "text": [
      "Using matplotlib backend: Qt5Agg\n",
      "Populating the interactive namespace from numpy and matplotlib\n"
     ]
    }
   ],
   "source": [
    "%matplotlib\n",
    "%pylab inline\n",
    "import numpy as np\n",
    "import matplotlib.pyplot as plt\n",
    "import matplotlib.image as mpimg\n",
    "import os\n",
    "\n",
    "import functions.sda_help as sh\n",
    "import functions.PrettyTable as pt"
   ]
  },
  {
   "cell_type": "markdown",
   "metadata": {},
   "source": [
    "Zur Untersuchung von statistischen Zusammenhängen sind zufällige Daten zu erzeugen. Dazu stehen folgende Funktionen zur Verfügung:\n",
    "\n",
    "- _randnum_ erzeugt  ganze gleichverteilte Zufallszahlen\n",
    "- _norm_ erzeugt ganze normalverteilte Zufallszahlen mit dem Mittelwert _mean_ und der Standardabweichung _sigma_\n",
    "- _triangular_ erzeugt ganze Zufallszahlen nach einer Dreieckverteilung\n",
    "- _betadist_ erzeugt  ganze Zufallszahlen nach der Betaverteilung\n",
    "- _gammadist_ erzeugt  ganze Zufallszahlen nach der Gammaverteilung\n",
    "- _expodist_ erzeugt  ganze Zufallszahlen nach der Exponentialverteilung\n",
    "- _paretodist_ erzeugt  ganze Zufallszahlen nach der Paretoverteilung\n",
    "\n",
    "Die Anzahl der Zahlen wird mit _anz_ angegeben, das Intervall, in dem die Zahlen erzeugt werden, kann mit _zmin_ und _zmax_ gesteuert werden.\n",
    "\n",
    "Mit den in der folgenden Zelle eingegeben Werten werden jeweils 3 Datensätze erzeugt. Diese werden angzeigt und durch die nachfolgende Tabelle beschrieben."
   ]
  },
  {
   "cell_type": "markdown",
   "metadata": {},
   "source": [
    "#### <font color=\"#FF0000\">Eingabezelle</font>"
   ]
  },
  {
   "cell_type": "code",
   "execution_count": 2,
   "metadata": {
    "collapsed": true
   },
   "outputs": [],
   "source": [
    "anz =  1000  # Anzahl der Zufallszahlen\n",
    "zmin = -50   # kleinster Wert\n",
    "zmax = 100 # größter Wert\n",
    "mu = 50   # Mittelwert\n",
    "sigma = 10  # Standardabweichung\n",
    "mode = (zmax + zmin)/2\n",
    "alpha = 0.5\n",
    "beta = 0.5\n",
    "lamd = 2\n",
    "p_alpha = 1"
   ]
  },
  {
   "cell_type": "code",
   "execution_count": 3,
   "metadata": {
    "collapsed": true
   },
   "outputs": [],
   "source": [
    "data_tab = sh.auto_generate(anz, zmin, zmax, mu, sigma, mode, alpha, beta, lamd, p_alpha)"
   ]
  },
  {
   "cell_type": "code",
   "execution_count": 4,
   "metadata": {
    "scrolled": false
   },
   "outputs": [
    {
     "data": {
      "text/html": [
       "<table><tr><td>Funktion</td><td>anz</td><td>min</td><td>max</td><td>$\\mu$(Vorgabe)</td><td>$\\sigma$(Vorgabe)</td><td>$\\mu$</td><td>$\\sigma$</td><td>mode</td><td>alpha</td><td>beta</td><td>lamd</td><td>p_alpha</td></tr><tr><td>randnum</td><td>1000</td><td>-50</td><td>100</td><td>-</td><td>-</td><td>25.25</td><td>43.25</td><td>-</td><td>-</td><td>-</td><td>-</td><td>-</td></tr><tr><td>norm</td><td>1000</td><td>-</td><td>-</td><td>50</td><td>10</td><td>49.76</td><td>9.76</td><td>-</td><td>-</td><td>-</td><td>-</td><td>-</td></tr><tr><td>triangular</td><td>1000</td><td>-50</td><td>100</td><td>-</td><td>-</td><td>24.5</td><td>30.72</td><td>25.0</td><td>-</td><td>-</td><td>-</td><td>-</td></tr><tr><td>betadist</td><td>1000</td><td>-50</td><td>100</td><td>-</td><td>-</td><td>25.48</td><td>52.99</td><td>-</td><td>0.5</td><td>0.5</td><td>-</td><td>-</td></tr><tr><td>gammadist</td><td>1000</td><td>-50</td><td>-</td><td>-</td><td>-</td><td>-11.83</td><td>52.05</td><td>-</td><td>0.5</td><td>0.5</td><td>-</td><td>-</td></tr><tr><td>expodist</td><td>1000</td><td>-50</td><td>-</td><td>-</td><td>-</td><td>22.48</td><td>72.34</td><td>-</td><td>-</td><td>-</td><td>2</td><td>-</td></tr><tr><td>paretodist</td><td>1000</td><td>-50</td><td>-</td><td>-</td><td>-</td><td>5185.47</td><td>100736.72</td><td>-</td><td>-</td><td>-</td><td>-</td><td>1</td></tr></table>"
      ],
      "text/latex": [
       "\\begin{longtable}[c]{@{}lllllllllllll@{}}\n",
       "\\toprule\\addlinespace\n",
       "Funktion & anz & min & max & $\\mu$(Vorgabe) & $\\sigma$(Vorgabe) & $\\mu$ & $\\sigma$ & mode & alpha & beta & lamd & p_alpha\\\\\\addlinespace \n",
       "\\midrule\\endhead\n",
       "randnum & 1000 & -50 & 100 & - & - & 25.25 & 43.25 & - & - & - & - & -\\\\\\addlinespace \n",
       "norm & 1000 & - & - & 50 & 10 & 49.76 & 9.76 & - & - & - & - & -\\\\\\addlinespace \n",
       "triangular & 1000 & -50 & 100 & - & - & 24.5 & 30.72 & 25.0 & - & - & - & -\\\\\\addlinespace \n",
       "betadist & 1000 & -50 & 100 & - & - & 25.48 & 52.99 & - & 0.5 & 0.5 & - & -\\\\\\addlinespace \n",
       "gammadist & 1000 & -50 & - & - & - & -11.83 & 52.05 & - & 0.5 & 0.5 & - & -\\\\\\addlinespace \n",
       "expodist & 1000 & -50 & - & - & - & 22.48 & 72.34 & - & - & - & 2 & -\\\\\\addlinespace \n",
       "paretodist & 1000 & -50 & - & - & - & 5185.47 & 100736.72 & - & - & - & - & 1\\\\\\addlinespace \n",
       "\\bottomrule \n",
       " \\end{longtable}"
      ],
      "text/plain": [
       "[['Funktion',\n",
       "  'anz',\n",
       "  'min',\n",
       "  'max',\n",
       "  '$\\\\mu$(Vorgabe)',\n",
       "  '$\\\\sigma$(Vorgabe)',\n",
       "  '$\\\\mu$',\n",
       "  '$\\\\sigma$',\n",
       "  'mode',\n",
       "  'alpha',\n",
       "  'beta',\n",
       "  'lamd',\n",
       "  'p_alpha'],\n",
       " ['randnum', 1000, -50, 100, '-', '-', 25.25, 43.25, '-', '-', '-', '-', '-'],\n",
       " ['norm',\n",
       "  1000,\n",
       "  '-',\n",
       "  '-',\n",
       "  50,\n",
       "  10,\n",
       "  49.759999999999998,\n",
       "  9.7599999999999998,\n",
       "  '-',\n",
       "  '-',\n",
       "  '-',\n",
       "  '-',\n",
       "  '-'],\n",
       " ['triangular',\n",
       "  1000,\n",
       "  -50,\n",
       "  100,\n",
       "  '-',\n",
       "  '-',\n",
       "  24.5,\n",
       "  30.719999999999999,\n",
       "  25.0,\n",
       "  '-',\n",
       "  '-',\n",
       "  '-',\n",
       "  '-'],\n",
       " ['betadist',\n",
       "  1000,\n",
       "  -50,\n",
       "  100,\n",
       "  '-',\n",
       "  '-',\n",
       "  25.48,\n",
       "  52.990000000000002,\n",
       "  '-',\n",
       "  0.5,\n",
       "  0.5,\n",
       "  '-',\n",
       "  '-'],\n",
       " ['gammadist',\n",
       "  1000,\n",
       "  -50,\n",
       "  '-',\n",
       "  '-',\n",
       "  '-',\n",
       "  -11.83,\n",
       "  52.049999999999997,\n",
       "  '-',\n",
       "  0.5,\n",
       "  0.5,\n",
       "  '-',\n",
       "  '-'],\n",
       " ['expodist',\n",
       "  1000,\n",
       "  -50,\n",
       "  '-',\n",
       "  '-',\n",
       "  '-',\n",
       "  22.48,\n",
       "  72.340000000000003,\n",
       "  '-',\n",
       "  '-',\n",
       "  '-',\n",
       "  2,\n",
       "  '-'],\n",
       " ['paretodist',\n",
       "  1000,\n",
       "  -50,\n",
       "  '-',\n",
       "  '-',\n",
       "  '-',\n",
       "  5185.4700000000003,\n",
       "  100736.72,\n",
       "  '-',\n",
       "  '-',\n",
       "  '-',\n",
       "  '-',\n",
       "  1]]"
      ]
     },
     "execution_count": 4,
     "metadata": {},
     "output_type": "execute_result"
    }
   ],
   "source": [
    "head = ['Funktion', 'anz', 'min', 'max', '$\\mu$(Vorgabe)', '$\\sigma$(Vorgabe)', '$\\mu$', '$\\sigma$', 'mode', 'alpha', 'beta', 'lamd', 'p_alpha']\n",
    "#s = pt.PrettyTable(l, head)\n",
    "pt.PrettyTable(data_tab, head)"
   ]
  },
  {
   "cell_type": "markdown",
   "metadata": {},
   "source": [
    "#### Aufgabe 1.1\n",
    "Untersuchen Sie die verschiedenen Verteilungen mit unterschiedlichen Parameterwerten. Legen Sie dazu in der folgenden Zelle die Parameter fest. und wählen Sie in der übernächsten Zelle die Verteilung aus."
   ]
  },
  {
   "cell_type": "code",
   "execution_count": 5,
   "metadata": {
    "collapsed": true
   },
   "outputs": [],
   "source": [
    "anz =  1000  # Anzahl der Zufallszahlen\n",
    "zmin = -50   # kleinster Wert\n",
    "zmax = 100 # größter Wert\n",
    "mu = 50   # Mittelwert\n",
    "sigma = 10  # Standardabweichung\n",
    "mode = (zmax + zmin)/2\n",
    "alpha = 0.7\n",
    "beta = 0.7\n",
    "lamd = 2\n",
    "p_alpha = 1"
   ]
  },
  {
   "cell_type": "markdown",
   "metadata": {},
   "source": [
    "- Wählen Sie die Verteilung aus. \n",
    "- In die Histogramme kann über _nv=True_ die Normalverteilung eingeblendet werden. \n",
    "- Wenn Sie die Grafik speichern möchten, wählen Sie _save=True_ und geben Sie einen Dateinamen an."
   ]
  },
  {
   "cell_type": "code",
   "execution_count": 24,
   "metadata": {
    "collapsed": true
   },
   "outputs": [],
   "source": [
    "#vt = 'randnum'\n",
    "#vt = 'norm'\n",
    "#vt = 'triangle'\n",
    "#vt = 'beta'\n",
    "#vt = 'gamma'\n",
    "vt = 'expo'\n",
    "#vt = 'pareto'\n",
    "nv = False\n",
    "save = False\n",
    "name = os.getcwd() + '\\data_images\\pareto.jpg'"
   ]
  },
  {
   "cell_type": "code",
   "execution_count": 25,
   "metadata": {
    "scrolled": false
   },
   "outputs": [
    {
     "name": "stdout",
     "output_type": "stream",
     "text": [
      "Verteilung: expo\n",
      "Anzahl Werte: 20000\n",
      "Mittelwert(berechnet): 19.7190626054\n",
      "Standardabweichung(berechnet): 19.8527013504\n",
      "\n"
     ]
    },
    {
     "data": {
      "image/png": "[encoded data removed]",
      "text/plain": [
       "<matplotlib.figure.Figure at 0xa654e4ac>"
      ]
     },
     "metadata": {},
     "output_type": "display_data"
    }
   ],
   "source": [
    "sh.test_vt(anz, zmin, zmax, mu, sigma, mode, alpha, beta, lamd, p_alpha, vt=vt, save=save, name=name, nv=nv)"
   ]
  },
  {
   "cell_type": "markdown",
   "metadata": {},
   "source": [
    "#### Aufgabe 1.2\n",
    "Beschreiben Sie die Verteilungen und den Einfluss der Parameter."
   ]
  }
 ],
 "metadata": {
  "kernelspec": {
   "display_name": "Python 3",
   "language": "python",
   "name": "python3"
  },
  "language_info": {
   "codemirror_mode": {
    "name": "ipython",
    "version": 3
   },
   "file_extension": ".py",
   "mimetype": "text/x-python",
   "name": "python",
   "nbconvert_exporter": "python",
   "pygments_lexer": "ipython3",
   "version": "3.6.3"
  }
 },
 "nbformat": 4,
 "nbformat_minor": 1
}

{
 "cells": [
  {
   "cell_type": "markdown",
   "metadata": {},
   "source": [
    "[Inhaltsverzeichnis](table_of_contents.ipynb)"
   ]
  },
  {
   "cell_type": "code",
   "execution_count": 1,
   "metadata": {},
   "outputs": [
    {
     "name": "stdout",
     "output_type": "stream",
     "text": [
      "Using matplotlib backend: Qt5Agg\n",
      "Populating the interactive namespace from numpy and matplotlib\n"
     ]
    }
   ],
   "source": [
    "%matplotlib\n",
    "%pylab inline\n",
    "import numpy as np\n",
    "import matplotlib.pyplot as plt\n",
    "import matplotlib.image as mpimg\n",
    "import os\n",
    "\n",
    "import functions.sda_help as sh\n",
    "import functions.PrettyTable as pt"
   ]
  },
  {
   "cell_type": "markdown",
   "metadata": {},
   "source": [
    "Zur Untersuchung von statistischen Zusammenhängen sind zufällige Daten zu erzeugen. Dazu stehen folgende Funktionen zur Verfügung:\n",
    "\n",
    "- _randnum_ erzeugt  ganze gleichverteilte Zufallszahlen\n",
    "- _norm_ erzeugt ganze normalverteilte Zufallszahlen mit dem Mittelwert _mean_ und der Standardabweichung _sigma_\n",
    "- _triangular_ erzeugt ganze Zufallszahlen nach einer Dreieckverteilung\n",
    "- _betadist_ erzeugt  ganze Zufallszahlen nach der Betaverteilung\n",
    "- _gammadist_ erzeugt  ganze Zufallszahlen nach der Gammaverteilung\n",
    "- _expodist_ erzeugt  ganze Zufallszahlen nach der Exponentialverteilung\n",
    "- _paretodist_ erzeugt  ganze Zufallszahlen nach der Paretoverteilung\n",
    "\n",
    "Die Anzahl der Zahlen wird mit _anz_ angegeben, das Intervall, in dem die Zahlen erzeugt werden, kann mit _zmin_ und _zmax_ gesteuert werden.\n",
    "\n",
    "Mit den in der folgenden Zelle eingegeben Werten werden jeweils 3 Datensätze erzeugt. Diese werden angzeigt und durch die nachfolgende Tabelle beschrieben."
   ]
  },
  {
   "cell_type": "markdown",
   "metadata": {},
   "source": [
    "#### <font color=\"#FF0000\">Eingabezelle</font>"
   ]
  },
  {
   "cell_type": "code",
   "execution_count": 2,
   "metadata": {},
   "outputs": [],
   "source": [
    "anz =  1000  # Anzahl der Zufallszahlen\n",
    "zmin = -50   # kleinster Wert\n",
    "zmax = 100 # größter Wert\n",
    "mu = 50   # Mittelwert\n",
    "sigma = 10  # Standardabweichung\n",
    "mode = (zmax + zmin)/2\n",
    "alpha = 0.5\n",
    "beta = 0.5\n",
    "lamd = 2\n",
    "p_alpha = 1"
   ]
  },
  {
   "cell_type": "code",
   "execution_count": 3,
   "metadata": {},
   "outputs": [],
   "source": [
    "data_tab = sh.auto_generate(anz, zmin, zmax, mu, sigma, mode, alpha, beta, lamd, p_alpha)"
   ]
  },
  {
   "cell_type": "code",
   "execution_count": 4,
   "metadata": {
    "scrolled": false
   },
   "outputs": [
    {
     "data": {
      "text/html": [
       "<table><tr><td>Funktion</td><td>anz</td><td>min</td><td>max</td><td>$\\mu$(Vorgabe)</td><td>$\\sigma$(Vorgabe)</td><td>$\\mu$</td><td>$\\sigma$</td><td>mode</td><td>alpha</td><td>beta</td><td>lamd</td><td>p_alpha</td></tr><tr><td>randnum</td><td>1000</td><td>-50</td><td>100</td><td>-</td><td>-</td><td>25.42</td><td>43.41</td><td>-</td><td>-</td><td>-</td><td>-</td><td>-</td></tr><tr><td>norm</td><td>1000</td><td>-</td><td>-</td><td>50</td><td>10</td><td>49.57</td><td>10.06</td><td>-</td><td>-</td><td>-</td><td>-</td><td>-</td></tr><tr><td>triangular</td><td>1000</td><td>-50</td><td>100</td><td>-</td><td>-</td><td>25.03</td><td>31.73</td><td>25.0</td><td>-</td><td>-</td><td>-</td><td>-</td></tr><tr><td>betadist</td><td>1000</td><td>-50</td><td>100</td><td>-</td><td>-</td><td>25.82</td><td>52.49</td><td>-</td><td>0.5</td><td>0.5</td><td>-</td><td>-</td></tr><tr><td>gammadist</td><td>1000</td><td>-50</td><td>-</td><td>-</td><td>-</td><td>-14.99</td><td>51.27</td><td>-</td><td>0.5</td><td>0.5</td><td>-</td><td>-</td></tr><tr><td>expodist</td><td>1000</td><td>-50</td><td>-</td><td>-</td><td>-</td><td>22.64</td><td>71.67</td><td>-</td><td>-</td><td>-</td><td>2</td><td>-</td></tr><tr><td>paretodist</td><td>1000</td><td>-50</td><td>-</td><td>-</td><td>-</td><td>1737.52</td><td>30405.66</td><td>-</td><td>-</td><td>-</td><td>-</td><td>1</td></tr></table>"
      ],
      "text/latex": [
       "\\begin{longtable}[c]{@{}lllllllllllll@{}}\n",
       "\\toprule\\addlinespace\n",
       "Funktion & anz & min & max & $\\mu$(Vorgabe) & $\\sigma$(Vorgabe) & $\\mu$ & $\\sigma$ & mode & alpha & beta & lamd & p_alpha\\\\\\addlinespace \n",
       "\\midrule\\endhead\n",
       "randnum & 1000 & -50 & 100 & - & - & 25.42 & 43.41 & - & - & - & - & -\\\\\\addlinespace \n",
       "norm & 1000 & - & - & 50 & 10 & 49.57 & 10.06 & - & - & - & - & -\\\\\\addlinespace \n",
       "triangular & 1000 & -50 & 100 & - & - & 25.03 & 31.73 & 25.0 & - & - & - & -\\\\\\addlinespace \n",
       "betadist & 1000 & -50 & 100 & - & - & 25.82 & 52.49 & - & 0.5 & 0.5 & - & -\\\\\\addlinespace \n",
       "gammadist & 1000 & -50 & - & - & - & -14.99 & 51.27 & - & 0.5 & 0.5 & - & -\\\\\\addlinespace \n",
       "expodist & 1000 & -50 & - & - & - & 22.64 & 71.67 & - & - & - & 2 & -\\\\\\addlinespace \n",
       "paretodist & 1000 & -50 & - & - & - & 1737.52 & 30405.66 & - & - & - & - & 1\\\\\\addlinespace \n",
       "\\bottomrule \n",
       " \\end{longtable}"
      ],
      "text/plain": [
       "[['Funktion',\n",
       "  'anz',\n",
       "  'min',\n",
       "  'max',\n",
       "  '$\\\\mu$(Vorgabe)',\n",
       "  '$\\\\sigma$(Vorgabe)',\n",
       "  '$\\\\mu$',\n",
       "  '$\\\\sigma$',\n",
       "  'mode',\n",
       "  'alpha',\n",
       "  'beta',\n",
       "  'lamd',\n",
       "  'p_alpha'],\n",
       " ['randnum', 1000, -50, 100, '-', '-', 25.42, 43.41, '-', '-', '-', '-', '-'],\n",
       " ['norm', 1000, '-', '-', 50, 10, 49.57, 10.06, '-', '-', '-', '-', '-'],\n",
       " ['triangular',\n",
       "  1000,\n",
       "  -50,\n",
       "  100,\n",
       "  '-',\n",
       "  '-',\n",
       "  25.03,\n",
       "  31.73,\n",
       "  25.0,\n",
       "  '-',\n",
       "  '-',\n",
       "  '-',\n",
       "  '-'],\n",
       " ['betadist', 1000, -50, 100, '-', '-', 25.82, 52.49, '-', 0.5, 0.5, '-', '-'],\n",
       " ['gammadist',\n",
       "  1000,\n",
       "  -50,\n",
       "  '-',\n",
       "  '-',\n",
       "  '-',\n",
       "  -14.99,\n",
       "  51.27,\n",
       "  '-',\n",
       "  0.5,\n",
       "  0.5,\n",
       "  '-',\n",
       "  '-'],\n",
       " ['expodist', 1000, -50, '-', '-', '-', 22.64, 71.67, '-', '-', '-', 2, '-'],\n",
       " ['paretodist',\n",
       "  1000,\n",
       "  -50,\n",
       "  '-',\n",
       "  '-',\n",
       "  '-',\n",
       "  1737.52,\n",
       "  30405.66,\n",
       "  '-',\n",
       "  '-',\n",
       "  '-',\n",
       "  '-',\n",
       "  1]]"
      ]
     },
     "execution_count": 4,
     "metadata": {},
     "output_type": "execute_result"
    }
   ],
   "source": [
    "head = ['Funktion', 'anz', 'min', 'max', '$\\mu$(Vorgabe)', '$\\sigma$(Vorgabe)', '$\\mu$', '$\\sigma$', 'mode', 'alpha', 'beta', 'lamd', 'p_alpha']\n",
    "#s = pt.PrettyTable(l, head)\n",
    "pt.PrettyTable(data_tab, head)"
   ]
  },
  {
   "cell_type": "markdown",
   "metadata": {},
   "source": [
    "#### Aufgabe 1.1\n",
    "Untersuchen Sie die verschiedenen Verteilungen mit unterschiedlichen Parameterwerten. Legen Sie dazu in der folgenden Zelle die Parameter fest. und wählen Sie in der übernächsten Zelle die Verteilung aus."
   ]
  },
  {
   "cell_type": "code",
   "execution_count": 5,
   "metadata": {},
   "outputs": [],
   "source": [
    "anz =  1000  # Anzahl der Zufallszahlen\n",
    "zmin = -50   # kleinster Wert\n",
    "zmax = 100 # größter Wert\n",
    "mu = 50   # Mittelwert\n",
    "sigma = 10  # Standardabweichung\n",
    "mode = (zmax + zmin)/2\n",
    "alpha = 0.7\n",
    "beta = 0.7\n",
    "lamd = 2\n",
    "p_alpha = 1"
   ]
  },
  {
   "cell_type": "markdown",
   "metadata": {},
   "source": [
    "- Wählen Sie die Verteilung aus. \n",
    "- In die Histogramme kann über _nv=True_ die Normalverteilung eingeblendet werden. \n",
    "- Wenn Sie die Grafik speichern möchten, wählen Sie _save=True_ und geben Sie einen Dateinamen an."
   ]
  },
  {
   "cell_type": "code",
   "execution_count": 25,
   "metadata": {},
   "outputs": [],
   "source": [
    "#vt = 'randnum'\n",
    "#vt = 'norm'\n",
    "#vt = 'triangle'\n",
    "#vt = 'beta'\n",
    "#vt = 'gamma'\n",
    "#vt = 'expo'\n",
    "vt = 'pareto'\n",
    "nv = False\n",
    "save = True\n",
    "fig_name = 'pareto_1000'\n",
    "name = os.getcwd() + '\\data_images\\\\' + fig_name + '.jpg'"
   ]
  },
  {
   "cell_type": "code",
   "execution_count": 26,
   "metadata": {
    "scrolled": false
   },
   "outputs": [
    {
     "name": "stdout",
     "output_type": "stream",
     "text": [
      "Verteilung: pareto\n",
      "Anzahl Werte: 1000\n",
      "kleinster Wert: -50\n",
      "Mittelwert(berechnet): 332.251\n",
      "Standardabweichung(berechnet): 9556.998058595544\n",
      "\n"
     ]
    },
    {
     "data": {
      "image/png": "[encoded data removed]",
      "text/plain": [
       "<Figure size 432x288 with 1 Axes>"
      ]
     },
     "metadata": {
      "needs_background": "light"
     },
     "output_type": "display_data"
    }
   ],
   "source": [
    "sh.test_vt(anz, zmin, zmax, mu, sigma, mode, alpha, beta, lamd, p_alpha, vt=vt, save=save, name=name, nv=nv)"
   ]
  },
  {
   "cell_type": "markdown",
   "metadata": {},
   "source": [
    "#### Aufgabe 1.2\n",
    "Beschreiben Sie die Verteilungen und den Einfluss der Parameter.\n",
    "\n",
    "Gleichverteilung, 1000 Werte, min = -50, max = 100 \n",
    "\n",
    "$p(x) = \\frac{1}{x_{max} -x_{min}}$\n",
    "<img src = 'data_images/gleich_1000.jpg'>\n",
    "\n",
    "Normalverteilung, 1000 Werte, $\\mu = 50, \\sigma = 10$\n",
    "\n",
    "$p(x) = \\frac{1}{\\sqrt{2  \\pi} \\sigma}e^{-\\frac{(x - \\mu)^{2}}{2\\sigma^{2}}}$\n",
    "<img src = 'data_images/norm_1000.jpg'>\n",
    "\n",
    "Dreieckverteilung, 1000 Werte, min = -50, max = 100, mode = 25\n",
    "\n",
    "<img src = 'data_images/dreieck_1000.jpg'>\n",
    "\n",
    "Betaverteilung, 1000 Werte, min = -50, max = 100, alpha = 0.7, beta = 0.7\n",
    "<img src = 'data_images/beta_1000.jpg'>\n",
    "\n",
    "Gammaverteilung, 1000 Werte, alpha = 0.7, beta = 0.7\n",
    "<img src = 'data_images/gamma_1000.jpg'>\n",
    "\n",
    "Exponentialverteilung, 1000 Werte, lambda = 2\n",
    "<img src = 'data_images/expo_1000.jpg'>\n",
    "\n",
    "Paretoverteilung, 1000 Werte, xmin = -50, p_alpha = 1\n",
    "<img src = 'data_images/pareto_1000.jpg'>"
   ]
  },
  {
   "cell_type": "code",
   "execution_count": null,
   "metadata": {},
   "outputs": [],
   "source": []
  }
 ],
 "metadata": {
  "kernelspec": {
   "display_name": "Python 3",
   "language": "python",
   "name": "python3"
  },
  "language_info": {
   "codemirror_mode": {
    "name": "ipython",
    "version": 3
   },
   "file_extension": ".py",
   "mimetype": "text/x-python",
   "name": "python",
   "nbconvert_exporter": "python",
   "pygments_lexer": "ipython3",
   "version": "3.7.3"
  }
 },
 "nbformat": 4,
 "nbformat_minor": 1
}

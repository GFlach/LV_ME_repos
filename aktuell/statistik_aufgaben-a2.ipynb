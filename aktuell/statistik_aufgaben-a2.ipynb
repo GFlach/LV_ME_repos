{
 "cells": [
  {
   "cell_type": "markdown",
   "metadata": {},
   "source": [
    "[Inhaltsverzeichnis](table_of_contents.ipynb)"
   ]
  },
  {
   "cell_type": "code",
   "execution_count": null,
   "metadata": {},
   "outputs": [],
   "source": [
    "%matplotlib\n",
    "%pylab inline\n",
    "import numpy as np\n",
    "import matplotlib.pyplot as plt\n",
    "import os\n",
    "\n",
    "import functions.sda_help as sh\n",
    "import functions.PrettyTable as pt"
   ]
  },
  {
   "cell_type": "code",
   "execution_count": null,
   "metadata": {},
   "outputs": [],
   "source": [
    "printinfo = []\n",
    "head = ['File', 'anz', 'Komponente 1', 'min', 'max', '$\\mu$1', '$\\sigma$1','Komponente 2', 'min', 'max', '$\\mu$2', '$\\sigma$2']"
   ]
  },
  {
   "cell_type": "markdown",
   "metadata": {},
   "source": [
    "#### Aufgabe 2.1\n",
    "Erzeugen Sie zweidimensionale Daten unterschiedlicher Zufallsprozesse. Diese werden als einfache und als Scatterplots dargestellt."
   ]
  },
  {
   "cell_type": "markdown",
   "metadata": {},
   "source": [
    "#### <font color=\"#FF0000\">Eingabezelle Komponente 1</font>"
   ]
  },
  {
   "cell_type": "code",
   "execution_count": null,
   "metadata": {},
   "outputs": [],
   "source": [
    "anz1 =  40  # Anzahl der Zufallszahlen\n",
    "zmin = 50   # kleinster Wert\n",
    "zmax = 60 # größter Wert\n",
    "mu = 10   # Mittelwert\n",
    "sigma = 1  # Standardabweichung\n",
    "mode = (zmax + zmin)/2\n",
    "alpha = 0.5\n",
    "beta = 0.5\n",
    "lamd = 2\n",
    "p_alpha = 1\n",
    "vt = 'randnum'"
   ]
  },
  {
   "cell_type": "code",
   "execution_count": null,
   "metadata": {},
   "outputs": [],
   "source": [
    "k1 = sh.generate_data(anz1, zmin, zmax, mu, sigma, mode, alpha, beta, lamd, p_alpha, vt)\n",
    "info = [anz1, vt, zmin, zmax, np.round(mean(k1),2), np.round(np.sqrt(var(k1)),2)]"
   ]
  },
  {
   "cell_type": "code",
   "execution_count": null,
   "metadata": {},
   "outputs": [],
   "source": [
    "plt.plot(k1, ls=':', marker='o')"
   ]
  },
  {
   "cell_type": "markdown",
   "metadata": {},
   "source": [
    "#### <font color=\"#FF0000\">Eingabezelle Komponente 2</font>"
   ]
  },
  {
   "cell_type": "code",
   "execution_count": null,
   "metadata": {},
   "outputs": [],
   "source": [
    "anz2 =  40  # Anzahl der Zufallszahlen\n",
    "zmin = 10   # kleinster Wert\n",
    "zmax = 20 # größter Wert\n",
    "mu = 20   # Mittelwert\n",
    "sigma = 1  # Standardabweichung\n",
    "mode = (zmax + zmin)/2\n",
    "alpha = 0.5\n",
    "beta = 0.5\n",
    "lamd = 2\n",
    "p_alpha = 1\n",
    "vt = 'randnum'"
   ]
  },
  {
   "cell_type": "code",
   "execution_count": null,
   "metadata": {},
   "outputs": [],
   "source": [
    "if anz1 != anz2:\n",
    "    print('*** Fehler *** Anzahl nicht gleich')\n",
    "else:\n",
    "    k2 = sh.generate_data(anz2, zmin, zmax, mu, sigma, mode, alpha, beta, lamd, p_alpha, vt)\n",
    "    test_data = np.append(k1, k2).reshape(2, anz1)\n",
    "    info = info + [vt, zmin, zmax, np.round(mean(k2),2), np.round(np.sqrt(var(k2)),2)]"
   ]
  },
  {
   "cell_type": "code",
   "execution_count": null,
   "metadata": {
    "scrolled": true
   },
   "outputs": [],
   "source": [
    "plt.plot(k2, ls=':', marker='o')"
   ]
  },
  {
   "cell_type": "code",
   "execution_count": null,
   "metadata": {},
   "outputs": [],
   "source": [
    "plt.figure(figsize=(8,8))\n",
    "plt.scatter(k1,k2, marker = '+')\n",
    "plt.xlabel('Komponente 1')\n",
    "plt.ylabel('Komponente 2')\n",
    "plt.grid()\n",
    "plt.show()"
   ]
  },
  {
   "cell_type": "markdown",
   "metadata": {},
   "source": [
    "#### Aufgabe 2.2\n",
    "Speichern Sie die zweidimensiomalen Daten unter einem vorgegebenen Namen ab.\n",
    "Erzeugen Sie mehrere Datensätze durch wiederholte Abarbeitung ab `Eingabezelle Komponente 1` und notieren Sie sich die relevanten Informationen aus der in der letzten Zelle erzeugten Tabelle."
   ]
  },
  {
   "cell_type": "markdown",
   "metadata": {},
   "source": [
    "#### <font color=\"#FF0000\">Eingabezelle</font>"
   ]
  },
  {
   "cell_type": "code",
   "execution_count": null,
   "metadata": {},
   "outputs": [],
   "source": [
    "name = 'file3'"
   ]
  },
  {
   "cell_type": "code",
   "execution_count": null,
   "metadata": {},
   "outputs": [],
   "source": [
    "dname = 'data/' + name + '.npy'\n",
    "np.save(dname, test_data)"
   ]
  },
  {
   "cell_type": "code",
   "execution_count": null,
   "metadata": {},
   "outputs": [],
   "source": [
    "info = [name] + info\n",
    "printinfo.append(info)"
   ]
  },
  {
   "cell_type": "code",
   "execution_count": null,
   "metadata": {
    "scrolled": true
   },
   "outputs": [],
   "source": [
    "pt.PrettyTable(printinfo, head)"
   ]
  }
 ],
 "metadata": {
  "kernelspec": {
   "display_name": "Python 3",
   "language": "python",
   "name": "python3"
  },
  "language_info": {
   "codemirror_mode": {
    "name": "ipython",
    "version": 3
   },
   "file_extension": ".py",
   "mimetype": "text/x-python",
   "name": "python",
   "nbconvert_exporter": "python",
   "pygments_lexer": "ipython3",
   "version": "3.7.1"
  }
 },
 "nbformat": 4,
 "nbformat_minor": 1
}

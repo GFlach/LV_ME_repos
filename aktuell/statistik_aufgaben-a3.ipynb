{
 "cells": [
  {
   "cell_type": "markdown",
   "metadata": {},
   "source": [
    "[Inhaltsverzeichnis](table_of_contents.ipynb)"
   ]
  },
  {
   "cell_type": "code",
   "execution_count": null,
   "metadata": {},
   "outputs": [],
   "source": [
    "%matplotlib\n",
    "%pylab inline\n",
    "import numpy as np\n",
    "import matplotlib.pyplot as plt\n",
    "import pandas as pd\n",
    "\n",
    "import functions.sda_help as sh"
   ]
  },
  {
   "cell_type": "markdown",
   "metadata": {},
   "source": [
    "#### Aufgabe 3\n",
    "Stellen Sie die in Aufgabe 2 erzeugten Daten dar."
   ]
  },
  {
   "cell_type": "markdown",
   "metadata": {},
   "source": [
    "#### <font color=\"#FF0000\">Eingabezelle</font>"
   ]
  },
  {
   "cell_type": "code",
   "execution_count": null,
   "metadata": {},
   "outputs": [],
   "source": [
    "#filelist = ['file1', 'file2', 'file3', 'file4', 'file5', 'file6', 'file7']\n",
    "filelist = ['file1', 'file2']"
   ]
  },
  {
   "cell_type": "code",
   "execution_count": null,
   "metadata": {},
   "outputs": [],
   "source": [
    "plt.figure(figsize=(8,8))\n",
    "for i in filelist:\n",
    "    dname = 'data/' + i + '.npy'\n",
    "    d = np.load(dname)\n",
    "    plt.scatter(d[0],d[1], marker = '+', label=i)\n",
    "plt.xlabel('Komponente 1')\n",
    "plt.ylabel('Komponente 2')\n",
    "plt.legend()\n",
    "plt.grid()\n",
    "plt.show()"
   ]
  },
  {
   "cell_type": "markdown",
   "metadata": {},
   "source": [
    "#### Erzeugen von Dataframes\n",
    "Die oben eingelesenen Daten werden zu einem Dataframe zusammengefasst, das unter dem angegebenen Namen als csv-Datei gespeichert wird.\n",
    "\n",
    "Inhalt des Dataframes:\n",
    "\n",
    "<img src = 'images/dataframe.jpg'>"
   ]
  },
  {
   "cell_type": "markdown",
   "metadata": {},
   "source": [
    "#### <font color=\"#FF0000\">Eingabezelle</font>"
   ]
  },
  {
   "cell_type": "code",
   "execution_count": null,
   "metadata": {},
   "outputs": [],
   "source": [
    "data_files = ['file1', 'file2', 'file3', 'file4', 'file5', 'file6', 'file7']\n",
    "class_labels = ['eins', 'zwei', 'drei', 'vier', 'fuenf', 'sechs', 'sieben']\n",
    "df_name = 'df0.txt'"
   ]
  },
  {
   "cell_type": "code",
   "execution_count": null,
   "metadata": {},
   "outputs": [],
   "source": [
    "df_ges = sh.build_df(data_files, class_labels)\n",
    "df_ges.to_pickle('data/' + df_name)"
   ]
  }
 ],
 "metadata": {
  "kernelspec": {
   "display_name": "Python 3",
   "language": "python",
   "name": "python3"
  },
  "language_info": {
   "codemirror_mode": {
    "name": "ipython",
    "version": 3
   },
   "file_extension": ".py",
   "mimetype": "text/x-python",
   "name": "python",
   "nbconvert_exporter": "python",
   "pygments_lexer": "ipython3",
   "version": "3.6.5"
  }
 },
 "nbformat": 4,
 "nbformat_minor": 1
}

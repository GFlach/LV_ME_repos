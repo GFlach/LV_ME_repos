{
 "cells": [
  {
   "cell_type": "markdown",
   "metadata": {},
   "source": [
    "[Inhaltsverzeichnis](table_of_contents.ipynb)"
   ]
  },
  {
   "cell_type": "code",
   "execution_count": null,
   "metadata": {},
   "outputs": [],
   "source": [
    "%matplotlib\n",
    "%pylab inline\n",
    "import numpy as np\n",
    "import matplotlib.pyplot as plt\n",
    "import pandas as pd\n",
    "\n",
    "import functions.sda_help as sh"
   ]
  },
  {
   "cell_type": "markdown",
   "metadata": {},
   "source": [
    "#### Aufgabe 3\n",
    "Stellen Sie die in Aufgabe 2 erzeugten Daten dar."
   ]
  },
  {
   "cell_type": "markdown",
   "metadata": {},
   "source": [
    "#### <font color=\"#FF0000\">Eingabezelle</font>"
   ]
  },
  {
   "cell_type": "code",
   "execution_count": null,
   "metadata": {},
   "outputs": [],
   "source": [
    "name1 = 'file1'\n",
    "name2 = 'file2'\n",
    "name3 = 'file3'"
   ]
  },
  {
   "cell_type": "code",
   "execution_count": null,
   "metadata": {},
   "outputs": [],
   "source": [
    "dname1 = 'data/' + name1 + '.npy'\n",
    "dname2 = 'data/' + name2 + '.npy'\n",
    "dname3 = 'data/' + name3 + '.npy'\n",
    "d1 = np.load(dname1)\n",
    "d2 = np.load(dname2)\n",
    "d3 = np.load(dname3)\n",
    "plt.figure(figsize=(8,8))\n",
    "plt.scatter(d1[0],d1[1], marker = '+', label='Klasse 1')\n",
    "plt.scatter(d2[0],d2[1], marker = '+', label='Klasse 2')\n",
    "plt.scatter(d3[0],d3[1], marker = '+', label='Klasse 3')\n",
    "plt.xlabel('Komponente 1')\n",
    "plt.ylabel('Komponente 2')\n",
    "plt.legend()\n",
    "plt.grid()\n",
    "plt.show()"
   ]
  },
  {
   "cell_type": "markdown",
   "metadata": {},
   "source": [
    "#### Erzeugen von Dataframes\n",
    "Die oben eingelesenen Daten werden zu einem Dataframe zusammengefasst, das unter dem angegebenen Namen als csv-Datei gespeichert wird."
   ]
  },
  {
   "cell_type": "markdown",
   "metadata": {},
   "source": [
    "#### <font color=\"#FF0000\">Eingabezelle</font>"
   ]
  },
  {
   "cell_type": "code",
   "execution_count": null,
   "metadata": {},
   "outputs": [],
   "source": [
    "data_files = ['file1', 'file2', 'file3']\n",
    "class_labels = ['eins', 'zwei', 'drei']\n",
    "df_name = 'df0.txt'"
   ]
  },
  {
   "cell_type": "code",
   "execution_count": null,
   "metadata": {},
   "outputs": [],
   "source": [
    "df_ges = sh.build_df(data_files, class_labels)\n",
    "df_ges.to_pickle('data/' + df_name)"
   ]
  }
 ],
 "metadata": {
  "kernelspec": {
   "display_name": "Python 3",
   "language": "python",
   "name": "python3"
  },
  "language_info": {
   "codemirror_mode": {
    "name": "ipython",
    "version": 3
   },
   "file_extension": ".py",
   "mimetype": "text/x-python",
   "name": "python",
   "nbconvert_exporter": "python",
   "pygments_lexer": "ipython3",
   "version": "3.7.1"
  }
 },
 "nbformat": 4,
 "nbformat_minor": 1
}

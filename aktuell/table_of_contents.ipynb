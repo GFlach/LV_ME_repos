{
 "cells": [
  {
   "cell_type": "markdown",
   "metadata": {
    "collapsed": true
   },
   "source": [
    "# LV Mustererkennung SS2018"
   ]
  },
  {
   "cell_type": "markdown",
   "metadata": {},
   "source": [
    "### Inhaltsverzeichnis"
   ]
  },
  {
   "cell_type": "markdown",
   "metadata": {
    "collapsed": true
   },
   "source": [
    "[**1 Einführung**](einfuehrung.ipynb)\n",
    "\n",
    "[**2 Lernen für Computer**](lernen_computer.ipynb)\n",
    "\n",
    "[**3 Datenvorverarbeitung - Trainingsdaten**](vorverarbeitung.ipynb)\n",
    "\n",
    "[**4 Datenkompression (Dimensionsreduzierung)**](kompression.ipynb)\n",
    "\n",
    "[**5 Klassifikation**](klassifikatoren.ipynb)\n",
    "\n",
    "[**6 Traininieren von Klassifikatoren**](training.ipynb)\n",
    "\n",
    "[**7 Vorhersage mit Regressionsanalyse**](regression.ipynb)\n",
    "\n",
    "[**8 Unüberwachtes Lernen - Clusterung**](clusterung.ipynb)\n",
    "\n",
    "[**9 Parametrierung und Bewertung von Modellen**](parametrierung.ipynb)\n",
    "\n",
    "[**10 Kombination von Modellen**](kombination.ipynb)\n",
    "\n",
    "[**11 Neuronale Netze**](neuronale_netze.ipynb)\n",
    "\n",
    "[**12 Anwendung - Sentimentanalyse**](sentimentanalyse.ipynb)"
   ]
  },
  {
   "cell_type": "code",
   "execution_count": null,
   "metadata": {
    "collapsed": true
   },
   "outputs": [],
   "source": []
  }
 ],
 "metadata": {
  "anaconda-cloud": {},
  "kernelspec": {
   "display_name": "Python 3",
   "language": "python",
   "name": "python3"
  },
  "language_info": {
   "codemirror_mode": {
    "name": "ipython",
    "version": 3
   },
   "file_extension": ".py",
   "mimetype": "text/x-python",
   "name": "python",
   "nbconvert_exporter": "python",
   "pygments_lexer": "ipython3",
   "version": "3.6.3"
  }
 },
 "nbformat": 4,
 "nbformat_minor": 1
}

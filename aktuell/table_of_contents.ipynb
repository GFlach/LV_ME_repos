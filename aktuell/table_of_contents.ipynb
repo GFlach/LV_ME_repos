{
 "cells": [
  {
   "cell_type": "markdown",
   "metadata": {
    "collapsed": true
   },
   "source": [
    "# LV Mustererkennung SS2019"
   ]
  },
  {
   "cell_type": "markdown",
   "metadata": {},
   "source": [
    "### Inhaltsverzeichnis"
   ]
  },
  {
   "cell_type": "markdown",
   "metadata": {
    "collapsed": true
   },
   "source": [
    "[**1 Einführung**](einfuehrung.ipynb)\n",
    "\n",
    "[**2 Lernen für Computer**](lernen_computer.ipynb)\n",
    "\n",
    "[**3 Datenvorverarbeitung - Trainingsdaten**](vorverarbeitung.ipynb)\n",
    "\n",
    "[**4 Datenkomprimierung durch Dimensionsreduktion**](kompression.ipynb)\n",
    "\n",
    "[**5 Klassifikation**](klassifikatoren.ipynb)\n",
    "\n",
    "[**6 Auswahl und Traininieren von Klassifikatoren**](training.ipynb)\n",
    "\n",
    "[**7 Vorhersage mit Regressionsanalyse**](regression.ipynb)\n",
    "\n",
    "[**8 Unüberwachtes Lernen - Clusterung**](clusterung.ipynb)\n",
    "\n",
    "[**9 Parametrierung und Bewertung von Modellen**](parametrierung.ipynb)\n",
    "\n",
    "[**10 Neuronale Netze**](neuronale_netze.ipynb)\n",
    "\n",
    "[**11 Kombination von Modellen**](kombination.ipynb)"
   ]
  },
  {
   "cell_type": "markdown",
   "metadata": {},
   "source": [
    "### Übung 24.05.2019\n",
    "\n",
    "- Datenvorverarbeitung - Trainingsdaten\n",
    "\n",
    "Arbeit mit Dataframes\n",
    "\n",
    "- Auswahl und Traininieren von Klassifikatoren\n",
    "\n",
    "Aufgabe 1:\n",
    "w, alpha, n_iter variieren\n",
    "\n",
    "Aufgabe 2:\n",
    "unterschiedliche Klassen auswählen, Verhalten des Klassifikators untersuchen\n",
    "\n",
    "Aufgabe 3:\n",
    "abarbeiten\n",
    "\n",
    "Aufgabe 4:\n",
    "OvA-Untersuchungen\n",
    "alpha, n_iter variieren\n",
    "\n",
    "Tests mit Sprachdaten wiederholen\n",
    "\n",
    "- Vorhersage mit Regressionsanalyse\n",
    "informativ"
   ]
  },
  {
   "cell_type": "code",
   "execution_count": null,
   "metadata": {},
   "outputs": [],
   "source": []
  }
 ],
 "metadata": {
  "anaconda-cloud": {},
  "kernelspec": {
   "display_name": "Python 3",
   "language": "python",
   "name": "python3"
  },
  "language_info": {
   "codemirror_mode": {
    "name": "ipython",
    "version": 3
   },
   "file_extension": ".py",
   "mimetype": "text/x-python",
   "name": "python",
   "nbconvert_exporter": "python",
   "pygments_lexer": "ipython3",
   "version": "3.6.5"
  }
 },
 "nbformat": 4,
 "nbformat_minor": 1
}

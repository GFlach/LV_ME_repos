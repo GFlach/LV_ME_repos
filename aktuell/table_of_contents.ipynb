{
 "cells": [
  {
   "cell_type": "markdown",
   "metadata": {
    "collapsed": true
   },
   "source": [
    "# LV Mustererkennung SS2019"
   ]
  },
  {
   "cell_type": "markdown",
   "metadata": {},
   "source": [
    "### Inhaltsverzeichnis"
   ]
  },
  {
   "cell_type": "markdown",
   "metadata": {
    "collapsed": true
   },
   "source": [
    "[**1 Einführung**](einfuehrung.ipynb)\n",
    "\n",
    "[**2 Lernen für Computer**](lernen_computer.ipynb)\n",
    "\n",
    "[**3 Datenvorverarbeitung - Trainingsdaten**](vorverarbeitung.ipynb)\n",
    "\n",
    "[**4 Datenkomprimierung durch Dimensionsreduktion**](kompression.ipynb)\n",
    "\n",
    "[**5 Klassifikation**](klassifikatoren.ipynb)\n",
    "\n",
    "[**6 Auswahl und Traininieren von Klassifikatoren**](training.ipynb)\n",
    "\n",
    "[**7 Dynamische Optimierung**](dp.ipynb)\n",
    "\n",
    "[**8 Hidden Markov Modelle**](hmm.ipynb)\n",
    "\n",
    "[**9 Bewertung von Klassifikatoren**](bewertung.ipynb)\n",
    "\n",
    "[**10 Übungen**](uebungen.ipynb)"
   ]
  }
 ],
 "metadata": {
  "anaconda-cloud": {},
  "kernelspec": {
   "display_name": "Python 3",
   "language": "python",
   "name": "python3"
  },
  "language_info": {
   "codemirror_mode": {
    "name": "ipython",
    "version": 3
   },
   "file_extension": ".py",
   "mimetype": "text/x-python",
   "name": "python",
   "nbconvert_exporter": "python",
   "pygments_lexer": "ipython3",
   "version": "3.7.1"
  }
 },
 "nbformat": 4,
 "nbformat_minor": 1
}

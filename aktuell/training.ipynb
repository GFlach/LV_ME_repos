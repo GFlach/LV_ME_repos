{
 "cells": [
  {
   "cell_type": "markdown",
   "metadata": {
    "collapsed": true
   },
   "source": [
    "[Inhaltsverzeichnis](table_of_contents.ipynb)"
   ]
  },
  {
   "cell_type": "markdown",
   "metadata": {},
   "source": [
    "# 6 Auswahl und Traininieren von Klassifikatoren"
   ]
  },
  {
   "cell_type": "markdown",
   "metadata": {},
   "source": [
    "### 6.1 Übungsaufgaben\n",
    "\n",
    "[Aufgabe 1: Anwendung Perzeptron](klassifikator_aufgaben-a1.ipynb)\n",
    "\n",
    "[Aufgabe 2: Anwendung Perzeptron mit Dataframe](dataframe_aufgaben-a2.ipynb)\n",
    "\n",
    "[Aufgabe 3: Adaline](klassifikator_aufgaben-a2.ipynb)\n",
    "\n",
    "[Aufgabe 4: Adaline (Dataframe)](klassifikator_aufgaben-a3.ipynb)\n"
   ]
  }
 ],
 "metadata": {
  "anaconda-cloud": {},
  "kernelspec": {
   "display_name": "Python 3",
   "language": "python",
   "name": "python3"
  },
  "language_info": {
   "codemirror_mode": {
    "name": "ipython",
    "version": 3
   },
   "file_extension": ".py",
   "mimetype": "text/x-python",
   "name": "python",
   "nbconvert_exporter": "python",
   "pygments_lexer": "ipython3",
   "version": "3.7.3"
  }
 },
 "nbformat": 4,
 "nbformat_minor": 1
}

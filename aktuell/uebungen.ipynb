{
 "cells": [
  {
   "cell_type": "markdown",
   "metadata": {
    "collapsed": true
   },
   "source": [
    "[Inhaltsverzeichnis](table_of_contents.ipynb)"
   ]
  },
  {
   "cell_type": "markdown",
   "metadata": {},
   "source": [
    "# 12 Übungspläne"
   ]
  },
  {
   "cell_type": "markdown",
   "metadata": {},
   "source": [
    "### Übung 24.05.2019\n",
    "\n",
    "#### Datenvorverarbeitung - Trainingsdaten\n",
    "\n",
    "Arbeit mit Dataframes\n",
    "\n",
    "#### Auswahl und Traininieren von Klassifikatoren\n",
    "\n",
    "Aufgabe 1:\n",
    "w, alpha, n_iter variieren\n",
    "\n",
    "Aufgabe 2:\n",
    "unterschiedliche Klassen auswählen, Verhalten des Klassifikators untersuchen\n",
    "\n",
    "Aufgabe 3:\n",
    "abarbeiten\n",
    "\n",
    "Aufgabe 4:\n",
    "OvA-Untersuchungen\n",
    "alpha, n_iter variieren\n",
    "\n",
    "Tests mit Sprachdaten wiederholen\n",
    "\n",
    "#### Vorhersage mit Regressionsanalyse\n",
    "informativ"
   ]
  }
 ],
 "metadata": {
  "anaconda-cloud": {},
  "kernelspec": {
   "display_name": "Python 3",
   "language": "python",
   "name": "python3"
  },
  "language_info": {
   "codemirror_mode": {
    "name": "ipython",
    "version": 3
   },
   "file_extension": ".py",
   "mimetype": "text/x-python",
   "name": "python",
   "nbconvert_exporter": "python",
   "pygments_lexer": "ipython3",
   "version": "3.7.1"
  }
 },
 "nbformat": 4,
 "nbformat_minor": 1
}

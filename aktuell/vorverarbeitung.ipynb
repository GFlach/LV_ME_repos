{
 "cells": [
  {
   "cell_type": "markdown",
   "metadata": {
    "collapsed": true
   },
   "source": [
    "[Inhaltsverzeichnis](table_of_contents.ipynb)"
   ]
  },
  {
   "cell_type": "markdown",
   "metadata": {},
   "source": [
    "# 3 Datenvorverarbeitung - Trainingsdaten\n",
    "\n",
    "## 3.1 Wiederholung Wahrscheinlichkeitsrechnung\n",
    "### 3.1.1 Begriffe\n",
    "### 3.1.2 Verbundwahrscheinlichkeit\n",
    "### 3.1.3 Bedingte Wahrscheinlichkeit\n",
    "### 3.1.4 Satz von Bayes\n",
    "### 3.1.5 Zufallsvariable\n",
    "### 3.1.6 Funktion einer Zufallsvariable\n",
    "### 3.1.7 Dichtefunktion\n",
    "### 3.1.8 Verteilungsfunktion\n",
    "### 3.1.9 Erwartungswert\n",
    "### 3.1.10 Varianz und Kovarianz\n",
    "### 3.1.11 Schätzfunktionen"
   ]
  },
  {
   "cell_type": "markdown",
   "metadata": {
    "collapsed": true
   },
   "source": [
    "## 3.2 Signalaufbereitung\n",
    "### 3.2.1 Aufgabenstellung\n",
    "### 3.2.2 Digitalisierung\n",
    "<img src=\"images/diskretisierung.jpg\" width=\"400\">\n",
    "\n",
    "#### Abtastung\n",
    "<img src=\"images/sampling2.jpg\" width=\"400\">\n",
    "<img src=\"images/sampling1.jpg\" width=\"400\">\n",
    "\n",
    "#### Aliasing\n",
    "<img src=\"images/aliasing.jpg\" width=\"400\">"
   ]
  },
  {
   "cell_type": "markdown",
   "metadata": {},
   "source": [
    "### 3.2.3 Diskrete Fouriertransformation\n",
    "## 3.3 Merkmale\n",
    "### 3.3.1 Verarbeitung von Sensorsignalen\n",
    "### 3.3.2 Normierung\n",
    "<img src=\"images/normierung.jpg\" width = \"700\">"
   ]
  },
  {
   "cell_type": "markdown",
   "metadata": {},
   "source": [
    "### 3.3.3 Datensätze\n",
    "<img src=\"images/01_08.png\" width=\"500\">\n",
    "Quelle:Sebastian Raschka, Machine Learning mit Python, mitp 2017"
   ]
  },
  {
   "cell_type": "markdown",
   "metadata": {},
   "source": [
    "### 3.4 Übungsaufgaben\n",
    "[Aufgabe 1](statistik_aufgaben-a1.ipynb)\n",
    "\n",
    "[Aufgabe 2](statistik_aufgaben-a2.ipynb)\n",
    "\n",
    "[Aufgabe 3](statistik_aufgaben-a3.ipynb)\n",
    "\n",
    "[Aufgabe 4](dataframe_aufgaben-a1.ipynb)\n",
    "\n",
    "[Aufgabe 5](dataframe_aufgaben-a2.ipynb)"
   ]
  }
 ],
 "metadata": {
  "anaconda-cloud": {},
  "kernelspec": {
   "display_name": "Python 3",
   "language": "python",
   "name": "python3"
  },
  "language_info": {
   "codemirror_mode": {
    "name": "ipython",
    "version": 3
   },
   "file_extension": ".py",
   "mimetype": "text/x-python",
   "name": "python",
   "nbconvert_exporter": "python",
   "pygments_lexer": "ipython3",
   "version": "3.7.3"
  }
 },
 "nbformat": 4,
 "nbformat_minor": 1
}
